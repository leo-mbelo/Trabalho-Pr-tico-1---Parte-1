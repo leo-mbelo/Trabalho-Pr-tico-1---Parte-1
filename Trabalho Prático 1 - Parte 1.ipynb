{
 "cells": [
  {
   "cell_type": "markdown",
   "metadata": {},
   "source": [
    "## Trabalho Prático 1 - Parte 1"
   ]
  },
  {
   "cell_type": "code",
   "execution_count": 1,
   "metadata": {},
   "outputs": [],
   "source": [
    "import numpy as np"
   ]
  },
  {
   "cell_type": "markdown",
   "metadata": {},
   "source": [
    "## 1) Recebendo o arquivo:\n",
    "\n",
    "Dentro do parâmetro $\\textit{grafo_txt}$ digite o nome do arquivo do grafo:"
   ]
  },
  {
   "cell_type": "code",
   "execution_count": 2,
   "metadata": {},
   "outputs": [],
   "source": [
    "grafo_txt = 'grafo_1.txt'\n",
    "arquivo = open(grafo_txt, 'r')"
   ]
  },
  {
   "cell_type": "markdown",
   "metadata": {},
   "source": [
    "## 1.1) Transformando grafo do arquivo em matriz de adjacência"
   ]
  },
  {
   "cell_type": "code",
   "execution_count": 3,
   "metadata": {},
   "outputs": [
    {
     "data": {
      "text/plain": [
       "array([0., 0., 3., 0.])"
      ]
     },
     "execution_count": 3,
     "metadata": {},
     "output_type": "execute_result"
    }
   ],
   "source": [
    "######## Teste\n",
    "c = list(np.zeros((4,4)))\n",
    "c[1][2] = 3\n",
    "c[1]"
   ]
  },
  {
   "cell_type": "code",
   "execution_count": 44,
   "metadata": {},
   "outputs": [],
   "source": [
    "def matriz_adj(grafo_txt):\n",
    "    arquivo = open(grafo_txt, 'r')\n",
    "    lista = arquivo.readlines() #ler o arquivo em forma de lista\n",
    "    n = int(lista[0]) #numero de vertices\n",
    "    m = len(lista) - 1 #numero de arestas\n",
    "    matriz_nula = list(np.zeros((n,n)))\n",
    "    for i in range(1,m+1):\n",
    "        lista[i] = lista[i].split() #quebro a linha em uma lista só com os vertices da aresta\n",
    "        v1 = int(lista[i][0]) #tomando o vertice da coluna 1 linha i\n",
    "        v2 = int(lista[i][1]) #tomando o vertice da coluna 2 linha i\n",
    "        matriz_nula[v1 - 1][v2 - 1] = 1 #o -1 é porquê a matriz começa a contar do 0\n",
    "        matriz_nula[v2 - 1][v1 - 1] = 1\n",
    "    \n",
    "    matriz_adj = np.array(matriz_nula)\n",
    "    return matriz_adj      "
   ]
  },
  {
   "cell_type": "code",
   "execution_count": 45,
   "metadata": {
    "scrolled": true
   },
   "outputs": [],
   "source": [
    "matriz = matriz_adj(grafo_txt)"
   ]
  },
  {
   "cell_type": "code",
   "execution_count": 46,
   "metadata": {},
   "outputs": [
    {
     "data": {
      "text/plain": [
       "array([[1., 0., 1., ..., 0., 0., 0.],\n",
       "       [0., 1., 0., ..., 0., 1., 0.],\n",
       "       [1., 0., 0., ..., 0., 0., 0.],\n",
       "       ...,\n",
       "       [0., 0., 0., ..., 0., 0., 0.],\n",
       "       [0., 1., 0., ..., 0., 0., 1.],\n",
       "       [0., 0., 0., ..., 0., 1., 0.]])"
      ]
     },
     "execution_count": 46,
     "metadata": {},
     "output_type": "execute_result"
    }
   ],
   "source": [
    "matriz"
   ]
  },
  {
   "cell_type": "markdown",
   "metadata": {},
   "source": [
    "## 1.2) Transformando grafo do arquivo em lista de adjacência\n",
    "\n",
    "Para isso vamos criar uma classe no python chamada Grafo"
   ]
  },
  {
   "cell_type": "code",
   "execution_count": 47,
   "metadata": {},
   "outputs": [],
   "source": [
    "#Criar lista de arestas\n",
    "def lista_arestas(grafo_txt):\n",
    "    arquivo = open(grafo_txt, 'r')\n",
    "    lista = arquivo.readlines()\n",
    "    n = int(lista[0]) #numero de vertices\n",
    "    m = len(lista) - 1 #numero de arestas\n",
    "    for i in range(1,m+1):\n",
    "        lista[i] = lista[i].split()\n",
    "    lista.pop(0)\n",
    "    return lista"
   ]
  },
  {
   "cell_type": "code",
   "execution_count": 48,
   "metadata": {
    "scrolled": true
   },
   "outputs": [
    {
     "name": "stdout",
     "output_type": "stream",
     "text": [
      "[['55', '52'], ['73', '24'], ['6', '59'], ['60', '16'], ['97', '31'], ['64', '14'], ['66', '42'], ['77', '66'], ['42', '31'], ['20', '74'], ['40', '67'], ['83', '73'], ['69', '98'], ['91', '47'], ['79', '77'], ['82', '1'], ['63', '65'], ['25', '77'], ['90', '7'], ['57', '11'], ['54', '63'], ['91', '5'], ['42', '17'], ['79', '95'], ['75', '23'], ['67', '83'], ['72', '68'], ['100', '61'], ['22', '76'], ['86', '62'], ['54', '68'], ['17', '30'], ['45', '70'], ['15', '100'], ['22', '32'], ['93', '58'], ['19', '70'], ['26', '99'], ['26', '4'], ['75', '75'], ['4', '15'], ['17', '94'], ['5', '59'], ['79', '75'], ['1', '1'], ['40', '22'], ['58', '57'], ['34', '15'], ['23', '23'], ['7', '56'], ['44', '47'], ['1', '22'], ['36', '3'], ['51', '40'], ['45', '56'], ['7', '84'], ['6', '62'], ['72', '45'], ['13', '40'], ['74', '62'], ['98', '41'], ['92', '76'], ['4', '7'], ['23', '63'], ['72', '10'], ['85', '27'], ['27', '95'], ['16', '19'], ['20', '55'], ['87', '78'], ['42', '90'], ['66', '99'], ['65', '89'], ['64', '94'], ['12', '51'], ['12', '80'], ['19', '97'], ['77', '92'], ['11', '14'], ['82', '10'], ['88', '98'], ['28', '71'], ['21', '29'], ['84', '70'], ['19', '53'], ['83', '26'], ['42', '20'], ['89', '31'], ['51', '66'], ['66', '27'], ['54', '72'], ['67', '89'], ['92', '85'], ['61', '12'], ['42', '59'], ['33', '63'], ['57', '30'], ['14', '55'], ['91', '90'], ['100', '57'], ['95', '83'], ['100', '30'], ['21', '82'], ['66', '56'], ['6', '71'], ['10', '83'], ['56', '92'], ['33', '74'], ['87', '96'], ['96', '68'], ['72', '83'], ['4', '92'], ['93', '34'], ['52', '36'], ['98', '86'], ['24', '79'], ['97', '10'], ['37', '89'], ['15', '65'], ['10', '20'], ['88', '87'], ['73', '61'], ['55', '54'], ['93', '16'], ['91', '44'], ['53', '63'], ['94', '16'], ['39', '3'], ['79', '71'], ['57', '57'], ['44', '21'], ['28', '90'], ['5', '95'], ['17', '93'], ['20', '96'], ['69', '76'], ['62', '77'], ['58', '56'], ['81', '47'], ['7', '33'], ['61', '17'], ['48', '49'], ['38', '46'], ['78', '71'], ['80', '86'], ['73', '64'], ['67', '18'], ['92', '79'], ['22', '11'], ['69', '27'], ['31', '77'], ['3', '76'], ['37', '96'], ['65', '40'], ['94', '15'], ['70', '67'], ['85', '3'], ['83', '24'], ['67', '71'], ['41', '49'], ['63', '73'], ['61', '33'], ['100', '19'], ['13', '12'], ['7', '52'], ['71', '68'], ['48', '77'], ['77', '68'], ['36', '53'], ['35', '64'], ['68', '23'], ['53', '44'], ['35', '19'], ['3', '52'], ['5', '7'], ['29', '23'], ['18', '78'], ['17', '27'], ['95', '33'], ['17', '64'], ['68', '26'], ['65', '74'], ['92', '34'], ['74', '61'], ['58', '97'], ['33', '37'], ['47', '40'], ['29', '86'], ['27', '50'], ['17', '89'], ['43', '86'], ['8', '50'], ['33', '2'], ['10', '53'], ['6', '50'], ['58', '65'], ['93', '84'], ['22', '6'], ['69', '24'], ['1', '52'], ['89', '90'], ['5', '62'], ['7', '36'], ['85', '84'], ['93', '1'], ['40', '74'], ['36', '70'], ['9', '11'], ['50', '96'], ['36', '79'], ['62', '16'], ['12', '16'], ['84', '24'], ['53', '10'], ['2', '11'], ['48', '61'], ['1', '31'], ['4', '98'], ['64', '91'], ['15', '93'], ['94', '43'], ['23', '5'], ['64', '90'], ['24', '9'], ['48', '85'], ['89', '63'], ['81', '75'], ['52', '26'], ['56', '73'], ['71', '84'], ['30', '62'], ['97', '11'], ['9', '15'], ['8', '57'], ['64', '88'], ['12', '76'], ['19', '100'], ['71', '43'], ['77', '74'], ['91', '6'], ['70', '25'], ['100', '68'], ['18', '44'], ['97', '48'], ['60', '9'], ['93', '75'], ['81', '54'], ['36', '39'], ['48', '13'], ['88', '4'], ['37', '97'], ['57', '94'], ['53', '31'], ['1', '3'], ['96', '81'], ['78', '22'], ['46', '59'], ['95', '3'], ['71', '73'], ['38', '28'], ['9', '21'], ['47', '35'], ['26', '70'], ['91', '55'], ['38', '2'], ['100', '99'], ['92', '78'], ['25', '90'], ['45', '78'], ['67', '31'], ['7', '43'], ['58', '8'], ['33', '70'], ['1', '45'], ['76', '50'], ['99', '2'], ['18', '28'], ['2', '5'], ['66', '55'], ['65', '75'], ['70', '48'], ['86', '33'], ['61', '58'], ['46', '9'], ['39', '93'], ['1', '93'], ['72', '18'], ['75', '38'], ['3', '80'], ['14', '83'], ['34', '41'], ['98', '15'], ['58', '88'], ['82', '55'], ['70', '12'], ['24', '76'], ['22', '51'], ['97', '73'], ['9', '16'], ['19', '27'], ['19', '18'], ['83', '63'], ['89', '59'], ['57', '89'], ['73', '88'], ['42', '91'], ['34', '77'], ['37', '90'], ['66', '86'], ['43', '87'], ['19', '5'], ['61', '37'], ['61', '30'], ['34', '70'], ['74', '27'], ['40', '62'], ['84', '4'], ['94', '3'], ['46', '25'], ['60', '52'], ['5', '55'], ['36', '68'], ['41', '37'], ['55', '47'], ['20', '28'], ['49', '36'], ['75', '9'], ['4', '24'], ['52', '21'], ['46', '72'], ['2', '37'], ['17', '81'], ['31', '20'], ['45', '34'], ['21', '44'], ['11', '23'], ['18', '86'], ['71', '18'], ['82', '100'], ['25', '31'], ['85', '12'], ['14', '2'], ['68', '58'], ['75', '81'], ['99', '18'], ['26', '98'], ['87', '40'], ['34', '17'], ['61', '47'], ['62', '45'], ['60', '55'], ['25', '94'], ['24', '94'], ['57', '91'], ['24', '56'], ['81', '13'], ['32', '20'], ['40', '69'], ['58', '13'], ['89', '28'], ['29', '22'], ['48', '55'], ['77', '34'], ['60', '8'], ['95', '82'], ['50', '52'], ['80', '81'], ['6', '100'], ['38', '42'], ['45', '47'], ['72', '99'], ['98', '25'], ['54', '34'], ['80', '45'], ['39', '4'], ['46', '67'], ['3', '14'], ['98', '5'], ['87', '7'], ['5', '2'], ['25', '16'], ['20', '22'], ['17', '23'], ['70', '80'], ['61', '71'], ['57', '85'], ['15', '6'], ['9', '10'], ['34', '8'], ['13', '59'], ['42', '82'], ['86', '61'], ['80', '62'], ['83', '6'], ['58', '69'], ['34', '61'], ['74', '58'], ['59', '85'], ['21', '72'], ['11', '25'], ['84', '21'], ['100', '21'], ['41', '69'], ['32', '70'], ['39', '82'], ['80', '40'], ['78', '56'], ['27', '99'], ['76', '38'], ['19', '34'], ['66', '38'], ['64', '60'], ['2', '2'], ['49', '13'], ['77', '24'], ['33', '52'], ['90', '9'], ['51', '75'], ['28', '88'], ['42', '51'], ['98', '55'], ['63', '81'], ['44', '46'], ['27', '56'], ['90', '30'], ['45', '48'], ['31', '85'], ['95', '59'], ['21', '94'], ['14', '32'], ['92', '60'], ['98', '40'], ['51', '80'], ['6', '48'], ['86', '19'], ['51', '72'], ['33', '90'], ['45', '12'], ['40', '8'], ['4', '95'], ['44', '94'], ['45', '14'], ['90', '47'], ['61', '46'], ['99', '13'], ['3', '95'], ['16', '51'], ['81', '63'], ['55', '69'], ['53', '53'], ['77', '50'], ['37', '76'], ['36', '44'], ['98', '87'], ['40', '97'], ['32', '51'], ['31', '70'], ['33', '87'], ['74', '90'], ['99', '47'], ['61', '80'], ['73', '12'], ['4', '76'], ['75', '37'], ['17', '82'], ['21', '58'], ['19', '69'], ['29', '72'], ['26', '15'], ['83', '17'], ['14', '5'], ['39', '30'], ['80', '79'], ['16', '1'], ['67', '98'], ['5', '65'], ['78', '73'], ['9', '99'], ['7', '13'], ['25', '67'], ['11', '46'], ['9', '89'], ['77', '38'], ['16', '89'], ['59', '54'], ['62', '91'], ['67', '32'], ['94', '5'], ['43', '93'], ['44', '71'], ['26', '97'], ['52', '30'], ['46', '11'], ['44', '72'], ['97', '55'], ['27', '7'], ['95', '39'], ['65', '67'], ['84', '89'], ['18', '69'], ['13', '81'], ['56', '15'], ['20', '92'], ['19', '2'], ['72', '17'], ['65', '8'], ['95', '75'], ['1', '46'], ['4', '71'], ['31', '96'], ['2', '49'], ['28', '39'], ['47', '59'], ['75', '47'], ['40', '29'], ['4', '99'], ['18', '67'], ['91', '38'], ['86', '56'], ['11', '80'], ['88', '64'], ['97', '87'], ['100', '96'], ['97', '64'], ['35', '59'], ['24', '92'], ['84', '1'], ['10', '90'], ['70', '99'], ['62', '54'], ['73', '10'], ['60', '23'], ['32', '99'], ['18', '38'], ['30', '83'], ['32', '88'], ['74', '69'], ['49', '8'], ['73', '65'], ['29', '75'], ['51', '95'], ['86', '80'], ['37', '85'], ['91', '84'], ['97', '100'], ['83', '3'], ['95', '49'], ['29', '36'], ['70', '93'], ['33', '41'], ['89', '8'], ['65', '9'], ['62', '82'], ['35', '38'], ['84', '76'], ['6', '79'], ['69', '71'], ['14', '16'], ['12', '55'], ['50', '21'], ['73', '89'], ['32', '85'], ['85', '91'], ['100', '64'], ['45', '29'], ['1', '83'], ['68', '46'], ['40', '26'], ['100', '76'], ['68', '82'], ['96', '67'], ['48', '99'], ['92', '48'], ['36', '55'], ['37', '79'], ['99', '60'], ['74', '87'], ['69', '23'], ['88', '65'], ['7', '74'], ['72', '85'], ['64', '62'], ['39', '94']]\n"
     ]
    }
   ],
   "source": [
    "arestas = lista_arestas(grafo_txt)\n",
    "print(arestas)"
   ]
  },
  {
   "cell_type": "markdown",
   "metadata": {},
   "source": [
    "Classe Grafo não-direcionado:"
   ]
  },
  {
   "cell_type": "code",
   "execution_count": 11,
   "metadata": {},
   "outputs": [
    {
     "name": "stdout",
     "output_type": "stream",
     "text": [
      "{'1': ['2'], '2': ['1', '4'], '5': ['3'], '3': ['5']}\n"
     ]
    }
   ],
   "source": [
    "###############################################\n",
    "\n",
    "o = [['1','2'], ['2','4'], ['5','3']]\n",
    "\n",
    "dicio={}\n",
    "for u,v in o:\n",
    "    if u in dicio:\n",
    "        dicio[u].append(v)\n",
    "    elif v in dicio:\n",
    "        dicio[v].append(u)\n",
    "    elif (u and v) not in dicio:\n",
    "        dicio[u] = [v]\n",
    "        dicio[v] = [u]\n",
    "\n",
    "print(dicio)"
   ]
  },
  {
   "cell_type": "code",
   "execution_count": 86,
   "metadata": {},
   "outputs": [],
   "source": [
    "class grafo:\n",
    "    def __init__(self,grafo_txt):\n",
    "        arquivo = open(grafo_txt, 'r')\n",
    "        leitura = arquivo.readlines()\n",
    "        \n",
    "    def listas_vertices_arestas(grafo_txt):\n",
    "        arquivo = open(grafo_txt, 'r')\n",
    "        lista = arquivo.readlines()\n",
    "        \n",
    "        vertices = {}\n",
    "        arestas = []\n",
    "        \n",
    "        n = int(lista[0]) #numero de vertices\n",
    "        m = len(lista) - 1 #numero de arestas\n",
    "        arestas = lista\n",
    "        for i in range(1,m+1):\n",
    "            arestas[i] = arestas[i].split()\n",
    "            if arestas[i][0] not in vertices:\n",
    "                vertices[arestas[i][0]] = []\n",
    "                \n",
    "            elif arestas[i][1] not in vertices:\n",
    "                vertices[arestas[i][1]] = []\n",
    "        arestas.pop(0)\n",
    "        return vertices, arestas\n",
    "    \n",
    "    #Criar lista de arestas\n",
    "    def lista_arestas(grafo_txt):\n",
    "        arquivo = open(grafo_txt, 'r')\n",
    "        lista = arquivo.readlines()\n",
    "        n = int(lista[0]) #numero de vertices\n",
    "        m = len(lista) - 1 #numero de arestas\n",
    "        for i in range(1,m+1):\n",
    "            lista[i] = lista[i].split()\n",
    "        lista.pop(0)\n",
    "        return lista\n",
    "    \n",
    "    #número de vertices e arestas:\n",
    "    def numero_vertices_arestas(grafo_txt):\n",
    "        arquivo = open(grafo_txt, 'r')\n",
    "        lista = arquivo.readlines()\n",
    "        n = int(lista[0])\n",
    "        m = len(lista) - 1\n",
    "        return \"O número de vértices é {V} e o número de arestas é {E}\".format(V = n, E = m)\n",
    "            \n",
    "    \n",
    "    #lista de adjacencia em dicionario:\n",
    "    def lista_adj_dict(vertices,arestas):\n",
    "        lista_adj = vertices\n",
    "        for u,v in arestas:                \n",
    "            lista_adj[u].append(v)\n",
    "            lista_adj[v].append(u)\n",
    "        return lista_adj\n",
    "    \n",
    "    #Grau dos vertices:\n",
    "    def grau(arestas):\n",
    "        grafo_dict = grafo.lista_adj_dict(arestas)\n",
    "        grau_grafo = {} #crio dicionário vazio\n",
    "        for chave in grafo_dict:\n",
    "            grau_grafo[chave] = str(len(grafo_dict[chave])) #para cada chave(vertice) adiciono o tamanho da lista da chave\n",
    "        return grau_grafo\n",
    "    \n",
    "    #grau mínimo, maximo e medio:\n",
    "    def grau_min_max_med(arestas):\n",
    "        grau_dict = grafo.grau(arestas)\n",
    "        n = len(grau_dict)\n",
    "        minimo = n + 1 #um vertice tem o grau no maximo igual ao |V| \n",
    "        maximo = 0 #um vertice tem o grau no minimo igual a zero\n",
    "        soma = 0\n",
    "        chave_menor = None\n",
    "        chave_maior = None\n",
    "\n",
    "        for chave in grau_dict:\n",
    "            g_chave = int(grau_dict[chave]) #grau da chave\n",
    "            #minimo\n",
    "            if g_chave <= minimo: #comparando o grau da chave com o menor valor encontrado pós cada iteraçao\n",
    "                minimo = g_chave\n",
    "                chave_menor = chave\n",
    "            #maximo    \n",
    "            if g_chave >= maximo: #comparando o grau da chave com o menor valor encontrado pós cada iteraçao\n",
    "                maximo = g_chave\n",
    "                chave_maior = chave\n",
    "            #media\n",
    "            soma += g_chave\n",
    "            \n",
    "        return [(chave_menor, minimo), (chave_maior, maximo), soma/n]           "
   ]
  },
  {
   "cell_type": "code",
   "execution_count": 83,
   "metadata": {
    "scrolled": true
   },
   "outputs": [],
   "source": [
    "vertices, arestas = grafo.listas_vertices_arestas(grafo_txt)\n"
   ]
  },
  {
   "cell_type": "code",
   "execution_count": 85,
   "metadata": {},
   "outputs": [
    {
     "name": "stdout",
     "output_type": "stream",
     "text": [
      "['52', '20', '14', '54', '91', '66', '82', '5', '47', '60', '48', '98', '69', '97', '12', '36', '52', '20', '14', '54', '91', '66', '82', '5', '47', '60', '48', '98', '69', '97', '12', '36']\n",
      "['55', '36', '7', '3', '1', '26', '60', '21', '50', '33', '30', '55', '36', '7', '3', '1', '26', '60', '21', '50', '33', '30']\n"
     ]
    }
   ],
   "source": [
    "lista_adj = grafo.lista_adj_dict(vertices, arestas)\n",
    "print(lista_adj['55'])\n",
    "print(lista_adj['52'])"
   ]
  },
  {
   "cell_type": "markdown",
   "metadata": {},
   "source": [
    "## 2) Número de vértices e arestas:"
   ]
  },
  {
   "cell_type": "code",
   "execution_count": 87,
   "metadata": {},
   "outputs": [
    {
     "data": {
      "text/plain": [
       "'O número de vértices é 100 e o número de arestas é 583'"
      ]
     },
     "execution_count": 87,
     "metadata": {},
     "output_type": "execute_result"
    }
   ],
   "source": [
    "#Numero de vertices e arestas:\n",
    "quantidade_vertice_e_arestas = grafo.numero_vertices_arestas(grafo_txt)\n",
    "quantidade_vertice_e_arestas"
   ]
  },
  {
   "cell_type": "markdown",
   "metadata": {},
   "source": [
    "## 3) Grau dos vértices"
   ]
  },
  {
   "cell_type": "code",
   "execution_count": 366,
   "metadata": {},
   "outputs": [],
   "source": [
    "#Grau dos vertices no grafo:\n",
    "grau_grafo = grafo.grau(arestas)"
   ]
  },
  {
   "cell_type": "code",
   "execution_count": 367,
   "metadata": {
    "scrolled": true
   },
   "outputs": [
    {
     "data": {
      "text/plain": [
       "{'55': '5',\n",
       " '52': '5',\n",
       " '73': '9',\n",
       " '24': '8',\n",
       " '6': '7',\n",
       " '59': '6',\n",
       " '60': '6',\n",
       " '16': '8',\n",
       " '97': '10',\n",
       " '31': '8',\n",
       " '64': '9',\n",
       " '14': '7',\n",
       " '66': '8',\n",
       " '42': '9',\n",
       " '20': '8',\n",
       " '74': '9',\n",
       " '40': '12',\n",
       " '67': '10',\n",
       " '69': '6',\n",
       " '98': '10',\n",
       " '91': '8',\n",
       " '47': '6',\n",
       " '79': '5',\n",
       " '77': '9',\n",
       " '82': '5',\n",
       " '1': '11',\n",
       " '63': '5',\n",
       " '65': '9',\n",
       " '90': '5',\n",
       " '7': '10',\n",
       " '57': '7',\n",
       " '11': '7',\n",
       " '75': '8',\n",
       " '23': '4',\n",
       " '72': '9',\n",
       " '68': '8',\n",
       " '100': '11',\n",
       " '61': '11',\n",
       " '22': '5',\n",
       " '76': '5',\n",
       " '86': '8',\n",
       " '62': '9',\n",
       " '17': '9',\n",
       " '30': '4',\n",
       " '45': '10',\n",
       " '70': '11',\n",
       " '93': '7',\n",
       " '58': '9',\n",
       " '26': '7',\n",
       " '99': '7',\n",
       " '4': '12',\n",
       " '15': '7',\n",
       " '36': '8',\n",
       " '3': '7',\n",
       " '85': '6',\n",
       " '27': '6',\n",
       " '87': '5',\n",
       " '78': '6',\n",
       " '12': '6',\n",
       " '51': '7',\n",
       " '28': '4',\n",
       " '71': '6',\n",
       " '21': '9',\n",
       " '29': '7',\n",
       " '19': '9',\n",
       " '53': '7',\n",
       " '95': '9',\n",
       " '83': '7',\n",
       " '56': '3',\n",
       " '92': '6',\n",
       " '37': '8',\n",
       " '89': '7',\n",
       " '48': '7',\n",
       " '49': '5',\n",
       " '38': '5',\n",
       " '46': '7',\n",
       " '8': '2',\n",
       " '50': '4',\n",
       " '33': '6',\n",
       " '2': '7',\n",
       " '94': '5',\n",
       " '43': '3',\n",
       " '18': '6',\n",
       " '44': '5',\n",
       " '81': '6',\n",
       " '54': '2',\n",
       " '34': '6',\n",
       " '41': '3',\n",
       " '9': '3',\n",
       " '10': '2',\n",
       " '32': '2',\n",
       " '88': '2'}"
      ]
     },
     "execution_count": 367,
     "metadata": {},
     "output_type": "execute_result"
    }
   ],
   "source": [
    "grau_grafo"
   ]
  },
  {
   "cell_type": "markdown",
   "metadata": {},
   "source": [
    "## 3.1) Grau Mínimo, Máximo e Médio\n",
    "\n",
    "Para determinar isso ainda usaremos nossa classe grafo criada na $\\texttt{Seção 1.2}$\n",
    "\n",
    "Entrada: Lista com arestas\n",
    "\n",
    "Saída: lista [(chave_menor, grau mínimo), (chave_maior, grau máximo), grau médio]"
   ]
  },
  {
   "cell_type": "code",
   "execution_count": 343,
   "metadata": {},
   "outputs": [],
   "source": [
    "minimo, maximo, medio = grafo.grau_min_max_med(arestas)"
   ]
  },
  {
   "cell_type": "code",
   "execution_count": 344,
   "metadata": {},
   "outputs": [
    {
     "data": {
      "text/plain": [
       "('88', 2)"
      ]
     },
     "execution_count": 344,
     "metadata": {},
     "output_type": "execute_result"
    }
   ],
   "source": [
    "minimo"
   ]
  },
  {
   "cell_type": "code",
   "execution_count": 345,
   "metadata": {},
   "outputs": [
    {
     "data": {
      "text/plain": [
       "('4', 12)"
      ]
     },
     "execution_count": 345,
     "metadata": {},
     "output_type": "execute_result"
    }
   ],
   "source": [
    "maximo"
   ]
  },
  {
   "cell_type": "code",
   "execution_count": 346,
   "metadata": {},
   "outputs": [
    {
     "data": {
      "text/plain": [
       "6.836956521739131"
      ]
     },
     "execution_count": 346,
     "metadata": {},
     "output_type": "execute_result"
    }
   ],
   "source": [
    "medio"
   ]
  },
  {
   "cell_type": "markdown",
   "metadata": {},
   "source": [
    "## 4) Busca em Largura (BFS)"
   ]
  },
  {
   "cell_type": "markdown",
   "metadata": {},
   "source": [
    "$\\texttt{Entrada:}$ conjunto de arestas e vertice raiz\n",
    "\n",
    "$\\texttt{Saída:}$ tupla(ordem de visitados, nivel, pai)"
   ]
  },
  {
   "cell_type": "code",
   "execution_count": 25,
   "metadata": {},
   "outputs": [],
   "source": [
    "from queue import Queue\n",
    "#Codigo BFS:\n",
    "def BFS(arestas, raiz):\n",
    "    #Criaremos dicionarios para os vertices visitados, seu nivel, lista de pais\n",
    "    visitados = {}\n",
    "    nivel = {}\n",
    "    pai = {} #nos ajudara a encontrar caminho e distancia minima\n",
    "    bfs_output=[]\n",
    "    queue = Queue()\n",
    "\n",
    "    lista_adj = grafo.lista_adj_dict(arestas) #lista de adjacencia\n",
    "\n",
    "    for vertice in lista_adj.keys():\n",
    "        #inicializando:\n",
    "        visitados[vertice] = False\n",
    "        nivel[vertice] = -1 #equivalente a ideia de usar infinito\n",
    "        pai[vertice] = None\n",
    "    \n",
    "    #Condiçao da raiz:\n",
    "    s = raiz\n",
    "    visitados[s] = True\n",
    "    nivel[s] = 0\n",
    "    queue.put(s)\n",
    "    \n",
    "    #exploraçao:\n",
    "    while not queue.empty():\n",
    "        u = queue.get()\n",
    "        bfs_output.append(u)\n",
    "        \n",
    "        #analisando os vizinhos de u:\n",
    "        for v in lista_adj[u]:\n",
    "            if not visitados[v]: #verificaçao se v ja foi visitado\n",
    "                visitados[v] = True\n",
    "                pai[v] = u\n",
    "                nivel[v] = nivel[u] + 1\n",
    "                queue.put(v)\n",
    "    \n",
    "    return bfs_output, nivel, pai"
   ]
  },
  {
   "cell_type": "code",
   "execution_count": 31,
   "metadata": {
    "scrolled": false
   },
   "outputs": [
    {
     "ename": "KeyError",
     "evalue": "'6'",
     "output_type": "error",
     "traceback": [
      "\u001b[1;31m---------------------------------------------------------------------------\u001b[0m",
      "\u001b[1;31mKeyError\u001b[0m                                  Traceback (most recent call last)",
      "\u001b[1;32m<ipython-input-31-81a52720f227>\u001b[0m in \u001b[0;36m<module>\u001b[1;34m\u001b[0m\n\u001b[0;32m      1\u001b[0m \u001b[1;31m##########################\u001b[0m\u001b[1;33m\u001b[0m\u001b[1;33m\u001b[0m\u001b[1;33m\u001b[0m\u001b[0m\n\u001b[0;32m      2\u001b[0m \u001b[0mteste_arestas\u001b[0m \u001b[1;33m=\u001b[0m \u001b[1;33m[\u001b[0m\u001b[1;33m[\u001b[0m\u001b[1;34m'1'\u001b[0m\u001b[1;33m,\u001b[0m\u001b[1;34m'2'\u001b[0m\u001b[1;33m]\u001b[0m\u001b[1;33m,\u001b[0m \u001b[1;33m[\u001b[0m\u001b[1;34m'1'\u001b[0m\u001b[1;33m,\u001b[0m\u001b[1;34m'3'\u001b[0m\u001b[1;33m]\u001b[0m\u001b[1;33m,\u001b[0m \u001b[1;33m[\u001b[0m\u001b[1;34m'2'\u001b[0m\u001b[1;33m,\u001b[0m\u001b[1;34m'3'\u001b[0m\u001b[1;33m]\u001b[0m\u001b[1;33m,\u001b[0m \u001b[1;33m[\u001b[0m\u001b[1;34m'2'\u001b[0m\u001b[1;33m,\u001b[0m\u001b[1;34m'4'\u001b[0m\u001b[1;33m]\u001b[0m\u001b[1;33m,\u001b[0m \u001b[1;33m[\u001b[0m\u001b[1;34m'3'\u001b[0m\u001b[1;33m,\u001b[0m\u001b[1;34m'5'\u001b[0m\u001b[1;33m]\u001b[0m\u001b[1;33m,\u001b[0m \u001b[1;33m[\u001b[0m\u001b[1;34m'3'\u001b[0m\u001b[1;33m,\u001b[0m\u001b[1;34m'6'\u001b[0m\u001b[1;33m]\u001b[0m\u001b[1;33m,\u001b[0m \u001b[1;33m[\u001b[0m\u001b[1;34m'4'\u001b[0m\u001b[1;33m,\u001b[0m\u001b[1;34m'7'\u001b[0m\u001b[1;33m]\u001b[0m\u001b[1;33m,\u001b[0m \u001b[1;33m[\u001b[0m\u001b[1;34m'5'\u001b[0m\u001b[1;33m,\u001b[0m\u001b[1;34m'7'\u001b[0m\u001b[1;33m]\u001b[0m\u001b[1;33m]\u001b[0m\u001b[1;33m\u001b[0m\u001b[1;33m\u001b[0m\u001b[0m\n\u001b[1;32m----> 3\u001b[1;33m \u001b[0moutput1\u001b[0m\u001b[1;33m,\u001b[0m \u001b[0mnivel1\u001b[0m\u001b[1;33m,\u001b[0m \u001b[0mpai1\u001b[0m \u001b[1;33m=\u001b[0m \u001b[0mBFS\u001b[0m\u001b[1;33m(\u001b[0m\u001b[0mteste_arestas\u001b[0m\u001b[1;33m,\u001b[0m \u001b[1;34m'1'\u001b[0m\u001b[1;33m)\u001b[0m\u001b[1;33m\u001b[0m\u001b[1;33m\u001b[0m\u001b[0m\n\u001b[0m",
      "\u001b[1;32m<ipython-input-25-f42f0a86c18d>\u001b[0m in \u001b[0;36mBFS\u001b[1;34m(arestas, raiz)\u001b[0m\n\u001b[0;32m     30\u001b[0m         \u001b[1;31m#analisando os vizinhos de u:\u001b[0m\u001b[1;33m\u001b[0m\u001b[1;33m\u001b[0m\u001b[1;33m\u001b[0m\u001b[0m\n\u001b[0;32m     31\u001b[0m         \u001b[1;32mfor\u001b[0m \u001b[0mv\u001b[0m \u001b[1;32min\u001b[0m \u001b[0mlista_adj\u001b[0m\u001b[1;33m[\u001b[0m\u001b[0mu\u001b[0m\u001b[1;33m]\u001b[0m\u001b[1;33m:\u001b[0m\u001b[1;33m\u001b[0m\u001b[1;33m\u001b[0m\u001b[0m\n\u001b[1;32m---> 32\u001b[1;33m             \u001b[1;32mif\u001b[0m \u001b[1;32mnot\u001b[0m \u001b[0mvisitados\u001b[0m\u001b[1;33m[\u001b[0m\u001b[0mv\u001b[0m\u001b[1;33m]\u001b[0m\u001b[1;33m:\u001b[0m \u001b[1;31m#verificaçao se v ja foi visitado\u001b[0m\u001b[1;33m\u001b[0m\u001b[1;33m\u001b[0m\u001b[0m\n\u001b[0m\u001b[0;32m     33\u001b[0m                 \u001b[0mvisitados\u001b[0m\u001b[1;33m[\u001b[0m\u001b[0mv\u001b[0m\u001b[1;33m]\u001b[0m \u001b[1;33m=\u001b[0m \u001b[1;32mTrue\u001b[0m\u001b[1;33m\u001b[0m\u001b[1;33m\u001b[0m\u001b[0m\n\u001b[0;32m     34\u001b[0m                 \u001b[0mpai\u001b[0m\u001b[1;33m[\u001b[0m\u001b[0mv\u001b[0m\u001b[1;33m]\u001b[0m \u001b[1;33m=\u001b[0m \u001b[0mu\u001b[0m\u001b[1;33m\u001b[0m\u001b[1;33m\u001b[0m\u001b[0m\n",
      "\u001b[1;31mKeyError\u001b[0m: '6'"
     ]
    }
   ],
   "source": [
    "##########################\n",
    "teste_arestas = [['1','2'], ['1','3'], ['2','3'], ['2','4'], ['3','5'], ['3','6'], ['4','7'], ['5','7']]\n",
    "output1, nivel1, pai1 = BFS(teste_arestas, '1')"
   ]
  },
  {
   "cell_type": "code",
   "execution_count": 32,
   "metadata": {},
   "outputs": [
    {
     "data": {
      "text/plain": [
       "{'1': ['2', '3'],\n",
       " '2': ['1', '3', '4'],\n",
       " '3': ['5', '6'],\n",
       " '5': ['3', '7'],\n",
       " '4': ['7'],\n",
       " '7': ['4']}"
      ]
     },
     "execution_count": 32,
     "metadata": {},
     "output_type": "execute_result"
    }
   ],
   "source": [
    "grafo.lista_adj_dict(teste_arestas)"
   ]
  },
  {
   "cell_type": "code",
   "execution_count": 27,
   "metadata": {},
   "outputs": [
    {
     "name": "stdout",
     "output_type": "stream",
     "text": [
      "['4', '7']\n",
      "{'1': -1, '2': -1, '3': -1, '5': -1, '4': 0, '7': 1}\n",
      "\n"
     ]
    }
   ],
   "source": [
    "print(output1)\n",
    "print(nivel1)\n",
    "print()"
   ]
  },
  {
   "cell_type": "code",
   "execution_count": 20,
   "metadata": {},
   "outputs": [
    {
     "ename": "KeyError",
     "evalue": "'84'",
     "output_type": "error",
     "traceback": [
      "\u001b[1;31m---------------------------------------------------------------------------\u001b[0m",
      "\u001b[1;31mKeyError\u001b[0m                                  Traceback (most recent call last)",
      "\u001b[1;32m<ipython-input-20-de54a041c2ad>\u001b[0m in \u001b[0;36m<module>\u001b[1;34m\u001b[0m\n\u001b[1;32m----> 1\u001b[1;33m \u001b[1;33m(\u001b[0m\u001b[0mvisited\u001b[0m\u001b[1;33m,\u001b[0m \u001b[0mnivel\u001b[0m\u001b[1;33m,\u001b[0m \u001b[0mpai\u001b[0m\u001b[1;33m)\u001b[0m \u001b[1;33m=\u001b[0m \u001b[0mBFS\u001b[0m\u001b[1;33m(\u001b[0m\u001b[0marestas\u001b[0m\u001b[1;33m,\u001b[0m \u001b[1;34m'1'\u001b[0m\u001b[1;33m)\u001b[0m\u001b[1;33m\u001b[0m\u001b[1;33m\u001b[0m\u001b[0m\n\u001b[0m",
      "\u001b[1;32m<ipython-input-17-258739c2a3af>\u001b[0m in \u001b[0;36mBFS\u001b[1;34m(arestas, raiz)\u001b[0m\n\u001b[0;32m     30\u001b[0m         \u001b[1;31m#analisando os vizinhos de u:\u001b[0m\u001b[1;33m\u001b[0m\u001b[1;33m\u001b[0m\u001b[1;33m\u001b[0m\u001b[0m\n\u001b[0;32m     31\u001b[0m         \u001b[1;32mfor\u001b[0m \u001b[0mv\u001b[0m \u001b[1;32min\u001b[0m \u001b[0mlista_adj\u001b[0m\u001b[1;33m[\u001b[0m\u001b[0mu\u001b[0m\u001b[1;33m]\u001b[0m\u001b[1;33m:\u001b[0m\u001b[1;33m\u001b[0m\u001b[1;33m\u001b[0m\u001b[0m\n\u001b[1;32m---> 32\u001b[1;33m             \u001b[1;32mif\u001b[0m \u001b[1;32mnot\u001b[0m \u001b[0mvisitados\u001b[0m\u001b[1;33m[\u001b[0m\u001b[0mv\u001b[0m\u001b[1;33m]\u001b[0m\u001b[1;33m:\u001b[0m \u001b[1;31m#verificaçao se v ja foi visitado\u001b[0m\u001b[1;33m\u001b[0m\u001b[1;33m\u001b[0m\u001b[0m\n\u001b[0m\u001b[0;32m     33\u001b[0m                 \u001b[0mvisitados\u001b[0m\u001b[1;33m[\u001b[0m\u001b[0mv\u001b[0m\u001b[1;33m]\u001b[0m \u001b[1;33m=\u001b[0m \u001b[1;32mTrue\u001b[0m\u001b[1;33m\u001b[0m\u001b[1;33m\u001b[0m\u001b[0m\n\u001b[0;32m     34\u001b[0m                 \u001b[0mpai\u001b[0m\u001b[1;33m[\u001b[0m\u001b[0mv\u001b[0m\u001b[1;33m]\u001b[0m \u001b[1;33m=\u001b[0m \u001b[0mu\u001b[0m\u001b[1;33m\u001b[0m\u001b[1;33m\u001b[0m\u001b[0m\n",
      "\u001b[1;31mKeyError\u001b[0m: '84'"
     ]
    }
   ],
   "source": [
    "(visited, nivel, pai) = BFS(arestas, '1')"
   ]
  },
  {
   "cell_type": "code",
   "execution_count": null,
   "metadata": {},
   "outputs": [],
   "source": []
  },
  {
   "cell_type": "markdown",
   "metadata": {},
   "source": [
    "## 4.1) Menor caminho de qualquer vértice até a raíz"
   ]
  },
  {
   "cell_type": "code",
   "execution_count": 209,
   "metadata": {},
   "outputs": [
    {
     "name": "stdout",
     "output_type": "stream",
     "text": [
      "['1', '52', '26', '4']\n"
     ]
    }
   ],
   "source": [
    "#Coloque a Raíz e o vertice que desejar:\n",
    "s = \"1\"\n",
    "v = \"4\"\n",
    "\n",
    "#BFS:\n",
    "_, nivel, pai = BFS(arestas, s)\n",
    "\n",
    "#Menor caminho:\n",
    "caminho = []\n",
    "while v is not None:\n",
    "    caminho.append(v)\n",
    "    if pai[v] == None and v != s:\n",
    "        print(\"Não há caminho\")\n",
    "        break\n",
    "    v = pai[v]\n",
    "caminho.reverse()\n",
    "print(caminho)"
   ]
  },
  {
   "cell_type": "markdown",
   "metadata": {},
   "source": [
    "## 5) Busca em Profundidade (DFS)"
   ]
  },
  {
   "cell_type": "code",
   "execution_count": 350,
   "metadata": {},
   "outputs": [],
   "source": [
    "#DFS:\n",
    "\n",
    "def DFS(arestas, raiz):\n",
    "    s = raiz\n",
    "    pilha = []\n",
    "    lista_adj = grafo.lista_adj_dict(arestas)\n",
    "    \n",
    "    #Dicionarios usados:\n",
    "    cor = {} #Branco, Cinza ou Preto\n",
    "    pai = {}\n",
    "    nivel = {}\n",
    "    dfs_output = []\n",
    "    \n",
    "    #Inicializando:\n",
    "    for vertice in lista_adj.keys():\n",
    "        cor[vertice] = \"B\"\n",
    "        pai[vertice] = None\n",
    "        nivel[vertice] = -1\n",
    "    \n",
    "    nivel[s] = 0\n",
    "    pilha.append(s)\n",
    "    nivel[None]=0\n",
    "    \n",
    "    while not len(pilha) == 0:\n",
    "        u = pilha.pop() #selecionei o ultimo elemento da minha pilha\n",
    "        if cor[u] == \"B\":\n",
    "            cor[u] = \"P\"\n",
    "            nivel[u] = nivel[pai[u]] + 1\n",
    "            dfs_output.append(u)\n",
    "            for vizinho in lista_adj[u]:\n",
    "                pilha.append(vizinho)\n",
    "            print(u)\n",
    "            print(pilha[-1])\n",
    "            print(lista_adj[u])\n",
    "            print(pai[u])\n",
    "            if cor[pilha[-1]] == \"B\" and pilha[-1] in lista_adj[u]: #determinar pai do proximo elemento desmarcado a sair da pilha\n",
    "                pai[pilha[-1]] = u\n",
    "    \n",
    "    return dfs_output, nivel, pai, pilha\n",
    "                "
   ]
  },
  {
   "cell_type": "code",
   "execution_count": 351,
   "metadata": {},
   "outputs": [
    {
     "name": "stdout",
     "output_type": "stream",
     "text": [
      "1\n",
      "3\n",
      "['2', '3']\n",
      "None\n",
      "3\n",
      "6\n",
      "['5', '6']\n",
      "1\n"
     ]
    },
    {
     "ename": "KeyError",
     "evalue": "'6'",
     "output_type": "error",
     "traceback": [
      "\u001b[1;31m---------------------------------------------------------------------------\u001b[0m",
      "\u001b[1;31mKeyError\u001b[0m                                  Traceback (most recent call last)",
      "\u001b[1;32m<ipython-input-351-266698757578>\u001b[0m in \u001b[0;36m<module>\u001b[1;34m\u001b[0m\n\u001b[0;32m      1\u001b[0m \u001b[0mteste_arestas\u001b[0m \u001b[1;33m=\u001b[0m \u001b[1;33m[\u001b[0m\u001b[1;33m[\u001b[0m\u001b[1;34m'1'\u001b[0m\u001b[1;33m,\u001b[0m\u001b[1;34m'2'\u001b[0m\u001b[1;33m]\u001b[0m\u001b[1;33m,\u001b[0m \u001b[1;33m[\u001b[0m\u001b[1;34m'1'\u001b[0m\u001b[1;33m,\u001b[0m\u001b[1;34m'3'\u001b[0m\u001b[1;33m]\u001b[0m\u001b[1;33m,\u001b[0m \u001b[1;33m[\u001b[0m\u001b[1;34m'2'\u001b[0m\u001b[1;33m,\u001b[0m\u001b[1;34m'3'\u001b[0m\u001b[1;33m]\u001b[0m\u001b[1;33m,\u001b[0m \u001b[1;33m[\u001b[0m\u001b[1;34m'2'\u001b[0m\u001b[1;33m,\u001b[0m\u001b[1;34m'4'\u001b[0m\u001b[1;33m]\u001b[0m\u001b[1;33m,\u001b[0m \u001b[1;33m[\u001b[0m\u001b[1;34m'3'\u001b[0m\u001b[1;33m,\u001b[0m\u001b[1;34m'5'\u001b[0m\u001b[1;33m]\u001b[0m\u001b[1;33m,\u001b[0m \u001b[1;33m[\u001b[0m\u001b[1;34m'3'\u001b[0m\u001b[1;33m,\u001b[0m\u001b[1;34m'6'\u001b[0m\u001b[1;33m]\u001b[0m\u001b[1;33m,\u001b[0m \u001b[1;33m[\u001b[0m\u001b[1;34m'4'\u001b[0m\u001b[1;33m,\u001b[0m\u001b[1;34m'7'\u001b[0m\u001b[1;33m]\u001b[0m\u001b[1;33m,\u001b[0m \u001b[1;33m[\u001b[0m\u001b[1;34m'5'\u001b[0m\u001b[1;33m,\u001b[0m\u001b[1;34m'7'\u001b[0m\u001b[1;33m]\u001b[0m\u001b[1;33m]\u001b[0m\u001b[1;33m\u001b[0m\u001b[1;33m\u001b[0m\u001b[0m\n\u001b[1;32m----> 2\u001b[1;33m \u001b[0moutput\u001b[0m\u001b[1;33m,\u001b[0m \u001b[0mnivel\u001b[0m\u001b[1;33m,\u001b[0m \u001b[0mpai\u001b[0m \u001b[1;33m=\u001b[0m \u001b[0mDFS\u001b[0m\u001b[1;33m(\u001b[0m\u001b[0mteste_arestas\u001b[0m\u001b[1;33m,\u001b[0m \u001b[1;34m'1'\u001b[0m\u001b[1;33m)\u001b[0m\u001b[1;33m\u001b[0m\u001b[1;33m\u001b[0m\u001b[0m\n\u001b[0m",
      "\u001b[1;32m<ipython-input-350-81f30d447232>\u001b[0m in \u001b[0;36mDFS\u001b[1;34m(arestas, raiz)\u001b[0m\n\u001b[0;32m     34\u001b[0m             \u001b[0mprint\u001b[0m\u001b[1;33m(\u001b[0m\u001b[0mlista_adj\u001b[0m\u001b[1;33m[\u001b[0m\u001b[0mu\u001b[0m\u001b[1;33m]\u001b[0m\u001b[1;33m)\u001b[0m\u001b[1;33m\u001b[0m\u001b[1;33m\u001b[0m\u001b[0m\n\u001b[0;32m     35\u001b[0m             \u001b[0mprint\u001b[0m\u001b[1;33m(\u001b[0m\u001b[0mpai\u001b[0m\u001b[1;33m[\u001b[0m\u001b[0mu\u001b[0m\u001b[1;33m]\u001b[0m\u001b[1;33m)\u001b[0m\u001b[1;33m\u001b[0m\u001b[1;33m\u001b[0m\u001b[0m\n\u001b[1;32m---> 36\u001b[1;33m             \u001b[1;32mif\u001b[0m \u001b[0mcor\u001b[0m\u001b[1;33m[\u001b[0m\u001b[0mpilha\u001b[0m\u001b[1;33m[\u001b[0m\u001b[1;33m-\u001b[0m\u001b[1;36m1\u001b[0m\u001b[1;33m]\u001b[0m\u001b[1;33m]\u001b[0m \u001b[1;33m==\u001b[0m \u001b[1;34m\"B\"\u001b[0m \u001b[1;32mand\u001b[0m \u001b[0mpilha\u001b[0m\u001b[1;33m[\u001b[0m\u001b[1;33m-\u001b[0m\u001b[1;36m1\u001b[0m\u001b[1;33m]\u001b[0m \u001b[1;32min\u001b[0m \u001b[0mlista_adj\u001b[0m\u001b[1;33m[\u001b[0m\u001b[0mu\u001b[0m\u001b[1;33m]\u001b[0m\u001b[1;33m:\u001b[0m \u001b[1;31m#determinar pai do proximo elemento desmarcado a sair da pilha\u001b[0m\u001b[1;33m\u001b[0m\u001b[1;33m\u001b[0m\u001b[0m\n\u001b[0m\u001b[0;32m     37\u001b[0m                 \u001b[0mpai\u001b[0m\u001b[1;33m[\u001b[0m\u001b[0mpilha\u001b[0m\u001b[1;33m[\u001b[0m\u001b[1;33m-\u001b[0m\u001b[1;36m1\u001b[0m\u001b[1;33m]\u001b[0m\u001b[1;33m]\u001b[0m \u001b[1;33m=\u001b[0m \u001b[0mu\u001b[0m\u001b[1;33m\u001b[0m\u001b[1;33m\u001b[0m\u001b[0m\n\u001b[0;32m     38\u001b[0m \u001b[1;33m\u001b[0m\u001b[0m\n",
      "\u001b[1;31mKeyError\u001b[0m: '6'"
     ]
    }
   ],
   "source": [
    "teste_arestas = [['1','2'], ['1','3'], ['2','3'], ['2','4'], ['3','5'], ['3','6'], ['4','7'], ['5','7']]\n",
    "output, nivel, pai = DFS(teste_arestas, '1')"
   ]
  },
  {
   "cell_type": "code",
   "execution_count": 303,
   "metadata": {},
   "outputs": [],
   "source": [
    "output2, nivel2, pai2, pilha = DFS(arestas, '4')"
   ]
  },
  {
   "cell_type": "code",
   "execution_count": 304,
   "metadata": {},
   "outputs": [
    {
     "data": {
      "text/plain": [
       "{'55': None,\n",
       " '73': None,\n",
       " '6': '15',\n",
       " '60': '99',\n",
       " '97': None,\n",
       " '64': None,\n",
       " '66': None,\n",
       " '77': None,\n",
       " '42': '38',\n",
       " '20': None,\n",
       " '40': None,\n",
       " '83': '1',\n",
       " '69': None,\n",
       " '91': '85',\n",
       " '79': '80',\n",
       " '82': '62',\n",
       " '63': '81',\n",
       " '25': None,\n",
       " '90': '10',\n",
       " '57': '8',\n",
       " '54': '59',\n",
       " '75': '93',\n",
       " '67': None,\n",
       " '72': '44',\n",
       " '100': '82',\n",
       " '22': None,\n",
       " '86': None,\n",
       " '17': None,\n",
       " '45': None,\n",
       " '15': '56',\n",
       " '93': None,\n",
       " '19': None,\n",
       " '26': None,\n",
       " '4': None,\n",
       " '5': '23',\n",
       " '1': None,\n",
       " '58': '21',\n",
       " '34': '54',\n",
       " '23': '60',\n",
       " '7': '87',\n",
       " '44': None,\n",
       " '36': '29',\n",
       " '51': '42',\n",
       " '13': None,\n",
       " '74': '7',\n",
       " '98': None,\n",
       " '92': '24',\n",
       " '85': '57',\n",
       " '27': None,\n",
       " '16': None,\n",
       " '87': None,\n",
       " '65': '5',\n",
       " '12': None,\n",
       " '11': '46',\n",
       " '88': None,\n",
       " '28': None,\n",
       " '21': None,\n",
       " '84': '91',\n",
       " '89': '9',\n",
       " '61': '34',\n",
       " '33': None,\n",
       " '14': None,\n",
       " '95': '51',\n",
       " '10': None,\n",
       " '56': None,\n",
       " '96': None,\n",
       " '52': None,\n",
       " '24': None,\n",
       " '37': None,\n",
       " '53': None,\n",
       " '94': None,\n",
       " '39': '28',\n",
       " '62': '64',\n",
       " '81': '13',\n",
       " '48': '92',\n",
       " '38': '76',\n",
       " '78': None,\n",
       " '80': '61',\n",
       " '31': None,\n",
       " '3': '83',\n",
       " '70': None,\n",
       " '41': '33',\n",
       " '71': '79',\n",
       " '35': None,\n",
       " '68': None,\n",
       " '29': '45',\n",
       " '18': '71',\n",
       " '47': '90',\n",
       " '43': None,\n",
       " '8': '89',\n",
       " '9': '65',\n",
       " '50': None,\n",
       " '2': None,\n",
       " '30': '52',\n",
       " '46': None,\n",
       " '76': '84',\n",
       " '99': '4',\n",
       " '49': '95',\n",
       " '32': '67',\n",
       " '59': '47'}"
      ]
     },
     "execution_count": 304,
     "metadata": {},
     "output_type": "execute_result"
    }
   ],
   "source": [
    "pai2"
   ]
  },
  {
   "cell_type": "code",
   "execution_count": null,
   "metadata": {},
   "outputs": [],
   "source": []
  }
 ],
 "metadata": {
  "kernelspec": {
   "display_name": "Python 3",
   "language": "python",
   "name": "python3"
  },
  "language_info": {
   "codemirror_mode": {
    "name": "ipython",
    "version": 3
   },
   "file_extension": ".py",
   "mimetype": "text/x-python",
   "name": "python",
   "nbconvert_exporter": "python",
   "pygments_lexer": "ipython3",
   "version": "3.8.5"
  }
 },
 "nbformat": 4,
 "nbformat_minor": 4
}
