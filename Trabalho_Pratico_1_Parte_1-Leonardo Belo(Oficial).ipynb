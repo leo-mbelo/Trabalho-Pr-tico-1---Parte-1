{
 "cells": [
  {
   "cell_type": "markdown",
   "metadata": {},
   "source": [
    "# Trabalho Prático 1 - Parte 1 (Códigos)"
   ]
  },
  {
   "cell_type": "code",
   "execution_count": 1,
   "metadata": {},
   "outputs": [],
   "source": [
    "import numpy as np"
   ]
  },
  {
   "cell_type": "markdown",
   "metadata": {},
   "source": [
    "## 1) Recebendo o arquivo:\n",
    "\n",
    "Dentro do parâmetro $\\textit{grafo_txt}$ digite o nome do arquivo do grafo:"
   ]
  },
  {
   "cell_type": "code",
   "execution_count": 3,
   "metadata": {},
   "outputs": [],
   "source": [
    "grafo_1_txt = 'grafo_1.txt'\n",
    "arquivo_1 = open(grafo_1_txt, 'r')\n",
    "\n",
    "grafo_2_txt = 'grafo_2.txt'\n",
    "arquivo_2 = open(grafo_2_txt, 'r')\n",
    "\n",
    "grafo_3_txt = 'grafo_3.txt'\n",
    "arquivo_3 = open(grafo_3_txt, 'r')\n",
    "\n",
    "grafo_4_txt = 'grafo_4.txt'\n",
    "arquivo_4 = open(grafo_4_txt, 'r')\n",
    "\n",
    "grafo_5_txt = 'grafo_5.txt'\n",
    "arquivo_5 = open(grafo_5_txt, 'r')\n",
    "\n",
    "grafo_6_txt = 'grafo_6.txt'\n",
    "arquivo_6 = open(grafo_6_txt, 'r')"
   ]
  },
  {
   "cell_type": "code",
   "execution_count": 4,
   "metadata": {},
   "outputs": [],
   "source": [
    "grafo_txt = grafo_6_txt"
   ]
  },
  {
   "cell_type": "markdown",
   "metadata": {},
   "source": [
    "### 1.1) Transformando grafo do arquivo em matriz de adjacência"
   ]
  },
  {
   "cell_type": "code",
   "execution_count": 4,
   "metadata": {},
   "outputs": [],
   "source": [
    "def matriz_adj(grafo_txt):\n",
    "    arquivo = open(grafo_txt, 'r')\n",
    "    lista = arquivo.readlines() #ler o arquivo em forma de lista\n",
    "    n = int(lista[0]) #numero de vertices\n",
    "    m = len(lista) - 1 #numero de arestas\n",
    "    matriz_nula = list(np.zeros((n,n)))\n",
    "    for i in range(1,m+1):\n",
    "        lista[i] = lista[i].split() #quebro a linha em uma lista só com os vertices da aresta\n",
    "        v1 = int(lista[i][0]) #tomando o vertice da coluna 1 linha i\n",
    "        v2 = int(lista[i][1]) #tomando o vertice da coluna 2 linha i\n",
    "        matriz_nula[v1 - 1][v2 - 1] = 1 #o -1 é porquê a matriz começa a contar do 0\n",
    "        matriz_nula[v2 - 1][v1 - 1] = 1\n",
    "    \n",
    "    matriz_adj = np.array(matriz_nula)\n",
    "    return matriz_adj      "
   ]
  },
  {
   "cell_type": "code",
   "execution_count": 5,
   "metadata": {
    "scrolled": true
   },
   "outputs": [],
   "source": [
    "matriz = matriz_adj(grafo_txt)"
   ]
  },
  {
   "cell_type": "markdown",
   "metadata": {},
   "source": [
    "### 1.2) Transformando grafo do arquivo em lista de adjacência\n",
    "\n",
    "Para isso vamos criar uma classe no python chamada Grafo"
   ]
  },
  {
   "cell_type": "markdown",
   "metadata": {},
   "source": [
    "Vamos criar listas com os vertices e arestas do grafo do arquivo texto:"
   ]
  },
  {
   "cell_type": "code",
   "execution_count": 6,
   "metadata": {},
   "outputs": [],
   "source": [
    "#listas dos vertices e arestas\n",
    "def listas_vertices_arestas(grafo_txt):\n",
    "    arquivo = open(grafo_txt, 'r')\n",
    "    lista = arquivo.readlines()\n",
    "    \n",
    "    vertices = []\n",
    "    arestas = []\n",
    "        \n",
    "    n = int(lista[0]) #numero de vertices\n",
    "    m = len(lista) - 1 #numero de arestas\n",
    "        \n",
    "        \n",
    "    for i in range(0,n):\n",
    "        i = i +1\n",
    "        vertices.append(str(i))\n",
    "            \n",
    "    lista.pop(0)\n",
    "    for E in lista:\n",
    "        E = E.split()\n",
    "        arestas.append(E)\n",
    "        \n",
    "    return vertices, arestas\n",
    "    "
   ]
  },
  {
   "cell_type": "markdown",
   "metadata": {},
   "source": [
    "Vamos criar o parâmetro lista de adjacência do grafo do texto:"
   ]
  },
  {
   "cell_type": "code",
   "execution_count": 14,
   "metadata": {
    "scrolled": true
   },
   "outputs": [],
   "source": [
    "vertices, arestas = listas_vertices_arestas(grafo_txt)"
   ]
  },
  {
   "cell_type": "code",
   "execution_count": 15,
   "metadata": {},
   "outputs": [],
   "source": [
    "#número de vertices e arestas:\n",
    "def numero_vertices_arestas(grafo_txt):\n",
    "    arquivo = open(grafo_txt, 'r')\n",
    "    lista = arquivo.readlines()\n",
    "    n = int(lista[0])\n",
    "    m = len(lista) - 1\n",
    "    return \"O número de vértices é {V} e o número de arestas é {E}\".format(V = n, E = m)"
   ]
  },
  {
   "cell_type": "code",
   "execution_count": 16,
   "metadata": {},
   "outputs": [],
   "source": [
    "#lista de adjacencia em dicionario:\n",
    "def lista_adj_dict(vertices,arestas):\n",
    "    lista_adj = {}\n",
    "    for V in vertices: #criando dicionario, cujas chaves são os vertices do grafo\n",
    "        lista_adj[V] = []\n",
    "            \n",
    "    for u,v in arestas:\n",
    "        if v not in lista_adj[u]:\n",
    "            lista_adj[u].append(v)\n",
    "        if u not in lista_adj[v]:\n",
    "            lista_adj[v].append(u)\n",
    "        \n",
    "    lista_v = []\n",
    "\n",
    "    for V in lista_adj.keys(): #ordenar elementos da lista de adjacencia\n",
    "        for i in lista_adj[V]:\n",
    "            i = int(i)\n",
    "            lista_v.append(i)\n",
    "        lista_v.sort()\n",
    "                \n",
    "        #transformar novamente os elementos de cada chave em strings\n",
    "        grau_v = len(lista_v)\n",
    "        for i in range(0, grau_v):\n",
    "            lista_v[i] = str(lista_v[i])\n",
    "        \n",
    "        lista_adj[V] = lista_v   \n",
    "        \n",
    "        lista_v = []\n",
    "        \n",
    "                    \n",
    "            \n",
    "    return lista_adj         "
   ]
  },
  {
   "cell_type": "code",
   "execution_count": null,
   "metadata": {
    "scrolled": true
   },
   "outputs": [],
   "source": [
    "lista_adj = lista_adj_dict(vertices,arestas)"
   ]
  },
  {
   "cell_type": "markdown",
   "metadata": {},
   "source": [
    "## 2) Número de vértices e arestas:"
   ]
  },
  {
   "cell_type": "code",
   "execution_count": 11,
   "metadata": {},
   "outputs": [
    {
     "data": {
      "text/plain": [
       "'O número de vértices é 10000036 e o número de arestas é 26666787'"
      ]
     },
     "execution_count": 11,
     "metadata": {},
     "output_type": "execute_result"
    }
   ],
   "source": [
    "#Numero de vertices e arestas:\n",
    "quantidade_vertice_e_arestas = numero_vertices_arestas(grafo_txt)\n",
    "quantidade_vertice_e_arestas"
   ]
  },
  {
   "cell_type": "markdown",
   "metadata": {},
   "source": [
    "## 3) Grau dos vértices"
   ]
  },
  {
   "cell_type": "code",
   "execution_count": 12,
   "metadata": {},
   "outputs": [],
   "source": [
    "#Grau dos vertices:\n",
    "def grau(lista_adj):\n",
    "    grau_grafo = {} #crio dicionário vazio\n",
    "    for chave in lista_adj.keys():\n",
    "        grau_grafo[chave] = str(len(lista_adj[chave])) #para cada chave(vertice) adiciono o tamanho da lista da chave\n",
    "    return grau_grafo\n",
    "\n",
    "#grau mínimo, maximo e medio:\n",
    "def grau_min_max_med(lista_adj):\n",
    "    grau_dict = grau(lista_adj)\n",
    "    n = len(grau_dict)\n",
    "    minimo = n + 1 #um vertice tem o grau no maximo igual ao |V| \n",
    "    maximo = 0 #um vertice tem o grau no minimo igual a zero\n",
    "    soma = 0\n",
    "    chave_menor = None\n",
    "    chave_maior = None\n",
    "\n",
    "    for chave in grau_dict:\n",
    "        g_chave = int(grau_dict[chave]) #grau da chave\n",
    "        #minimo\n",
    "        if g_chave <= minimo: #comparando o grau da chave com o menor valor encontrado pós cada iteraçao\n",
    "            minimo = g_chave\n",
    "            chave_menor = chave\n",
    "            \n",
    "        #maximo\n",
    "        g_chave = int(grau_dict[chave])\n",
    "        if g_chave >= maximo: #comparando o grau da chave com o menor valor encontrado pós cada iteraçao\n",
    "            maximo = g_chave\n",
    "            chave_maior = chave\n",
    "            \n",
    "        #media\n",
    "        g_chave = int(grau_dict[chave])\n",
    "        soma += g_chave\n",
    "            \n",
    "    return [(chave_menor, minimo), (chave_maior, maximo), soma/n]  \n",
    "    "
   ]
  },
  {
   "cell_type": "markdown",
   "metadata": {},
   "source": [
    "Dicionário com o grau de cada vértice:"
   ]
  },
  {
   "cell_type": "code",
   "execution_count": 13,
   "metadata": {},
   "outputs": [
    {
     "ename": "NameError",
     "evalue": "name 'lista_adj' is not defined",
     "output_type": "error",
     "traceback": [
      "\u001b[1;31m---------------------------------------------------------------------------\u001b[0m",
      "\u001b[1;31mNameError\u001b[0m                                 Traceback (most recent call last)",
      "\u001b[1;32m<ipython-input-13-4024ae8a5443>\u001b[0m in \u001b[0;36m<module>\u001b[1;34m\u001b[0m\n\u001b[0;32m      1\u001b[0m \u001b[1;31m#Grau dos vertices no grafo:\u001b[0m\u001b[1;33m\u001b[0m\u001b[1;33m\u001b[0m\u001b[1;33m\u001b[0m\u001b[0m\n\u001b[1;32m----> 2\u001b[1;33m \u001b[0mgrau_grafo\u001b[0m \u001b[1;33m=\u001b[0m \u001b[0mgrau\u001b[0m\u001b[1;33m(\u001b[0m\u001b[0mlista_adj\u001b[0m\u001b[1;33m)\u001b[0m\u001b[1;33m\u001b[0m\u001b[1;33m\u001b[0m\u001b[0m\n\u001b[0m",
      "\u001b[1;31mNameError\u001b[0m: name 'lista_adj' is not defined"
     ]
    }
   ],
   "source": [
    "#Grau dos vertices no grafo:\n",
    "grau_grafo = grau(lista_adj)"
   ]
  },
  {
   "cell_type": "markdown",
   "metadata": {},
   "source": [
    "### 3.1) Grau Mínimo, Máximo e Médio\n",
    "\n",
    "Para determinar isso ainda usaremos nossa classe grafo criada na $\\texttt{Seção 1.2}$\n",
    "\n",
    "Entrada: Lista com arestas\n",
    "\n",
    "Saída: lista [(chave_menor, grau mínimo), (chave_maior, grau máximo), grau médio]"
   ]
  },
  {
   "cell_type": "code",
   "execution_count": 173,
   "metadata": {},
   "outputs": [],
   "source": [
    "minimo, maximo, medio = grau_min_max_med(lista_adj)"
   ]
  },
  {
   "cell_type": "code",
   "execution_count": 174,
   "metadata": {},
   "outputs": [
    {
     "data": {
      "text/plain": [
       "('8128', 1)"
      ]
     },
     "execution_count": 174,
     "metadata": {},
     "output_type": "execute_result"
    }
   ],
   "source": [
    "minimo"
   ]
  },
  {
   "cell_type": "code",
   "execution_count": 175,
   "metadata": {},
   "outputs": [
    {
     "data": {
      "text/plain": [
       "('8394', 149)"
      ]
     },
     "execution_count": 175,
     "metadata": {},
     "output_type": "execute_result"
    }
   ],
   "source": [
    "maximo"
   ]
  },
  {
   "cell_type": "code",
   "execution_count": 176,
   "metadata": {},
   "outputs": [
    {
     "data": {
      "text/plain": [
       "68.70037040744819"
      ]
     },
     "execution_count": 176,
     "metadata": {},
     "output_type": "execute_result"
    }
   ],
   "source": [
    "medio"
   ]
  },
  {
   "cell_type": "markdown",
   "metadata": {},
   "source": [
    "## 4) Busca em Largura (BFS)"
   ]
  },
  {
   "cell_type": "markdown",
   "metadata": {},
   "source": [
    "$\\texttt{Entrada:}$ conjunto de arestas e vertice raiz\n",
    "\n",
    "$\\texttt{Saída:}$ tupla(ordem de visitados, nivel, pai)"
   ]
  },
  {
   "cell_type": "code",
   "execution_count": 42,
   "metadata": {},
   "outputs": [],
   "source": [
    "from queue import Queue\n",
    "#Codigo BFS:\n",
    "def BFS(lista_adj, raiz):\n",
    "    #Criaremos dicionarios para os vertices visitados, seu nivel, lista de pais\n",
    "    visitados = {}\n",
    "    nivel = {}\n",
    "    pai = {} #nos ajudara a encontrar caminho e distancia minima\n",
    "    bfs_output=[]\n",
    "    queue = Queue()\n",
    "\n",
    "    for vertice in lista_adj.keys():\n",
    "        #inicializando:\n",
    "        visitados[vertice] = False\n",
    "        nivel[vertice] = -1 #equivalente a ideia de usar infinito\n",
    "        pai[vertice] = None\n",
    "    \n",
    "    #Condiçao da raiz:\n",
    "    s = raiz\n",
    "    visitados[s] = True\n",
    "    nivel[s] = 0\n",
    "    queue.put(s)\n",
    "    \n",
    "    #exploraçao:\n",
    "    while not queue.empty():\n",
    "        u = queue.get()\n",
    "        bfs_output.append(u)\n",
    "        \n",
    "        #analisando os vizinhos de u:\n",
    "        for v in lista_adj[u]:\n",
    "            if not visitados[v]: #verificaçao se v ja foi visitado\n",
    "                visitados[v] = True\n",
    "                pai[v] = u\n",
    "                nivel[v] = nivel[u] + 1\n",
    "                queue.put(v)\n",
    "    \n",
    "    return bfs_output, nivel, pai"
   ]
  },
  {
   "cell_type": "code",
   "execution_count": 43,
   "metadata": {
    "scrolled": false
   },
   "outputs": [],
   "source": [
    "########################## GRAFO PARA TESTE:\n",
    "teste1_arestas = [['1','2'], ['1','3'], ['2','3'], ['2','4'], ['3','5'], ['3','6'], ['4','7'], ['5','7']]\n",
    "teste1_vertices = {'1':[] , '2': [], '3':[] , '4':[] , '5':[] , '6':[] , '7':[] }\n",
    "\n",
    "teste1_lista_adj = lista_adj_dict(teste1_vertices, teste1_arestas)"
   ]
  },
  {
   "cell_type": "code",
   "execution_count": 44,
   "metadata": {
    "scrolled": true
   },
   "outputs": [
    {
     "data": {
      "text/plain": [
       "{'1': ['2', '3'],\n",
       " '2': ['1', '3', '4'],\n",
       " '3': ['1', '2', '5', '6'],\n",
       " '4': ['2', '7'],\n",
       " '5': ['3', '7'],\n",
       " '6': ['3'],\n",
       " '7': ['4', '5']}"
      ]
     },
     "execution_count": 44,
     "metadata": {},
     "output_type": "execute_result"
    }
   ],
   "source": [
    "teste1_lista_adj"
   ]
  },
  {
   "cell_type": "code",
   "execution_count": 254,
   "metadata": {},
   "outputs": [],
   "source": [
    "teste1_output, teste1_nivel, teste1_pai = BFS(teste1_lista_adj, '1')"
   ]
  },
  {
   "cell_type": "code",
   "execution_count": 201,
   "metadata": {},
   "outputs": [
    {
     "name": "stdout",
     "output_type": "stream",
     "text": [
      "['1', '2', '3', '4', '5', '6', '7']\n",
      "{'1': 0, '2': 1, '3': 1, '4': 2, '5': 2, '6': 2, '7': 3}\n",
      "{'1': None, '2': '1', '3': '1', '4': '2', '5': '3', '6': '3', '7': '4'}\n"
     ]
    }
   ],
   "source": [
    "print(teste1_output)\n",
    "print(teste1_nivel)\n",
    "print(teste1_pai)"
   ]
  },
  {
   "cell_type": "code",
   "execution_count": 182,
   "metadata": {},
   "outputs": [],
   "source": [
    "##########FIM do teste"
   ]
  },
  {
   "cell_type": "markdown",
   "metadata": {},
   "source": [
    "Aplicando BFS no grafo do problema:"
   ]
  },
  {
   "cell_type": "code",
   "execution_count": 45,
   "metadata": {},
   "outputs": [],
   "source": [
    "bfs_output, bfs_nivel, bfs_pai = BFS(lista_adj, '20')"
   ]
  },
  {
   "cell_type": "code",
   "execution_count": 46,
   "metadata": {},
   "outputs": [
    {
     "name": "stdout",
     "output_type": "stream",
     "text": [
      "100\n"
     ]
    }
   ],
   "source": [
    "print(len(bfs_output))"
   ]
  },
  {
   "cell_type": "code",
   "execution_count": 47,
   "metadata": {},
   "outputs": [
    {
     "name": "stdout",
     "output_type": "stream",
     "text": [
      "3\n"
     ]
    }
   ],
   "source": [
    "print(bfs_nivel['30'])"
   ]
  },
  {
   "cell_type": "code",
   "execution_count": 48,
   "metadata": {},
   "outputs": [
    {
     "name": "stdout",
     "output_type": "stream",
     "text": [
      "83\n"
     ]
    }
   ],
   "source": [
    "print(bfs_pai['30'])"
   ]
  },
  {
   "cell_type": "markdown",
   "metadata": {},
   "source": [
    "### 4.1) Menor caminho de qualquer vértice até a raíz"
   ]
  },
  {
   "cell_type": "code",
   "execution_count": null,
   "metadata": {},
   "outputs": [],
   "source": [
    "#Coloque a Raíz e o vertice que desejar:\n",
    "s = \"1\"\n",
    "v = \"4\"\n",
    "\n",
    "#BFS:\n",
    "_, nivel, pai = BFS(lista_adj, s)\n",
    "\n",
    "#Menor caminho:\n",
    "caminho = []\n",
    "while v is not None:\n",
    "    caminho.append(v)\n",
    "    if pai[v] == None and v != s:\n",
    "        print(\"Não há caminho\")\n",
    "        break\n",
    "    v = pai[v]\n",
    "caminho.reverse()\n",
    "print(caminho)"
   ]
  },
  {
   "cell_type": "code",
   "execution_count": null,
   "metadata": {},
   "outputs": [],
   "source": [
    "#Verificação\n",
    "\n",
    "print(lista_adj['1'])\n",
    "print(lista_adj['84'])"
   ]
  },
  {
   "cell_type": "markdown",
   "metadata": {},
   "source": [
    "## 5) Busca em Profundidade (DFS)"
   ]
  },
  {
   "cell_type": "code",
   "execution_count": 134,
   "metadata": {},
   "outputs": [],
   "source": [
    "#DFS:\n",
    "\n",
    "def DFS(lista_adj, raiz):\n",
    "    s = raiz\n",
    "    pilha = []\n",
    "    \n",
    "    #Dicionarios usados:\n",
    "    cor = {} #Branco ou Preto\n",
    "    pai = {}\n",
    "    nivel = {}\n",
    "    dfs_output = []\n",
    "    \n",
    "    #Inicializando:\n",
    "    for vertice in lista_adj.keys():\n",
    "        cor[vertice] = \"B\"\n",
    "        pai[vertice] = None\n",
    "        nivel[vertice] = -1\n",
    "    \n",
    "    nivel[s] = 0\n",
    "    pilha.append(s)\n",
    "    while not len(pilha) == 0:\n",
    "        u = pilha.pop() #selecionei o ultimo elemento da minha pilha\n",
    "        if cor[u] == \"B\":\n",
    "            cor[u] = \"P\"\n",
    "            lista_adj[u].reverse()\n",
    "\n",
    "            for vizinho in lista_adj[u]:\n",
    "                pilha.append(vizinho)\n",
    "            \n",
    "            N_output = len(dfs_output)\n",
    "            for i in range(0,N_output):\n",
    "                ultimo_output = dfs_output[N_output-1-i]\n",
    "                if ultimo_output in lista_adj[u]: #Para encontrar o pai[u] devemos olhar os já marcados\n",
    "                    pai[u] = ultimo_output\n",
    "                    nivel[u] = nivel[ultimo_output] + 1\n",
    "                    break #quando encontrar, termina o for\n",
    "                \n",
    "            dfs_output.append(u)\n",
    "    \n",
    "        lista_adj[u].reverse()\n",
    "            \n",
    "    return dfs_output, nivel, pai\n",
    "                "
   ]
  },
  {
   "cell_type": "code",
   "execution_count": 135,
   "metadata": {},
   "outputs": [],
   "source": [
    "###############GRAFO DE TESTE:\n",
    "teste_vertices = ['1','2','3','4','5','6','7']\n",
    "teste_arestas = [['1','2'], ['1','3'], ['2','3'], ['2','4'], ['3','5'], ['3','6'], ['4','7'], ['5','7']]\n",
    "teste_lista_adj = lista_adj_dict(teste_vertices,teste_arestas)\n",
    "\n",
    "teste_dfs_output, teste_nivel, teste_pai = DFS(teste_lista_adj, '1')"
   ]
  },
  {
   "cell_type": "code",
   "execution_count": 137,
   "metadata": {},
   "outputs": [
    {
     "data": {
      "text/plain": [
       "{'1': ['2', '3'],\n",
       " '2': ['1', '3', '4'],\n",
       " '3': ['6', '5', '2', '1'],\n",
       " '4': ['7', '2'],\n",
       " '5': ['7', '3'],\n",
       " '6': ['3'],\n",
       " '7': ['5', '4']}"
      ]
     },
     "execution_count": 137,
     "metadata": {},
     "output_type": "execute_result"
    }
   ],
   "source": [
    "teste_lista_adj"
   ]
  },
  {
   "cell_type": "code",
   "execution_count": 138,
   "metadata": {},
   "outputs": [
    {
     "name": "stdout",
     "output_type": "stream",
     "text": [
      "['1', '2', '3', '5', '7', '4', '6']\n",
      "{'1': 0, '2': 1, '3': 2, '4': 5, '5': 3, '6': 3, '7': 4}\n",
      "{'1': None, '2': '1', '3': '2', '4': '7', '5': '3', '6': '3', '7': '5'}\n"
     ]
    }
   ],
   "source": [
    "print(teste_dfs_output)\n",
    "print(teste_nivel)\n",
    "print(teste_pai)"
   ]
  },
  {
   "cell_type": "code",
   "execution_count": null,
   "metadata": {},
   "outputs": [],
   "source": [
    "############### FIM DO TESTE"
   ]
  },
  {
   "cell_type": "code",
   "execution_count": 139,
   "metadata": {},
   "outputs": [],
   "source": [
    "#Grafo_txt:\n",
    "dfs_output, dfs_nivel, dfs_pai = DFS(lista_adj, '1')"
   ]
  },
  {
   "cell_type": "code",
   "execution_count": 285,
   "metadata": {},
   "outputs": [],
   "source": [
    "#dfs_output"
   ]
  },
  {
   "cell_type": "code",
   "execution_count": 286,
   "metadata": {},
   "outputs": [],
   "source": [
    "#dfs_nivel"
   ]
  },
  {
   "cell_type": "code",
   "execution_count": 336,
   "metadata": {
    "scrolled": true
   },
   "outputs": [
    {
     "name": "stdout",
     "output_type": "stream",
     "text": [
      "216787\n"
     ]
    }
   ],
   "source": [
    "print(dfs_pai['20'])"
   ]
  },
  {
   "cell_type": "markdown",
   "metadata": {},
   "source": [
    "## 6) Distância entre os vértices"
   ]
  },
  {
   "cell_type": "code",
   "execution_count": null,
   "metadata": {},
   "outputs": [],
   "source": []
  },
  {
   "cell_type": "code",
   "execution_count": null,
   "metadata": {},
   "outputs": [],
   "source": [
    "print(teste1_output)\n",
    "print(teste1_nivel)\n",
    "print(teste1_pai)"
   ]
  },
  {
   "cell_type": "code",
   "execution_count": 149,
   "metadata": {},
   "outputs": [
    {
     "ename": "TypeError",
     "evalue": "unsupported operand type(s) for -: 'list' and 'list'",
     "output_type": "error",
     "traceback": [
      "\u001b[1;31m---------------------------------------------------------------------------\u001b[0m",
      "\u001b[1;31mTypeError\u001b[0m                                 Traceback (most recent call last)",
      "\u001b[1;32m<ipython-input-149-80ae49579e75>\u001b[0m in \u001b[0;36m<module>\u001b[1;34m\u001b[0m\n\u001b[0;32m      3\u001b[0m \u001b[0mk\u001b[0m \u001b[1;33m=\u001b[0m \u001b[1;36m2\u001b[0m\u001b[1;33m*\u001b[0m\u001b[0mg\u001b[0m\u001b[1;33m\u001b[0m\u001b[1;33m\u001b[0m\u001b[0m\n\u001b[0;32m      4\u001b[0m \u001b[0mk\u001b[0m\u001b[1;33m[\u001b[0m\u001b[1;36m1\u001b[0m\u001b[1;33m]\u001b[0m \u001b[1;33m=\u001b[0m \u001b[1;36m4\u001b[0m\u001b[1;33m\u001b[0m\u001b[1;33m\u001b[0m\u001b[0m\n\u001b[1;32m----> 5\u001b[1;33m \u001b[0mk\u001b[0m \u001b[1;33m-\u001b[0m \u001b[0mo\u001b[0m\u001b[1;33m\u001b[0m\u001b[1;33m\u001b[0m\u001b[0m\n\u001b[0m",
      "\u001b[1;31mTypeError\u001b[0m: unsupported operand type(s) for -: 'list' and 'list'"
     ]
    }
   ],
   "source": [
    "g = [1]\n",
    "o = [1]\n",
    "k = 2*g\n",
    "k[1] = 4\n",
    "k - o"
   ]
  },
  {
   "cell_type": "code",
   "execution_count": null,
   "metadata": {},
   "outputs": [],
   "source": [
    "def distancias_grafo(lista_adj, matriz):\n",
    "    vertices = list(lista_adj.keys())\n",
    "    n = len(vertices)\n",
    "    \n",
    "    dist_dict = {}\n",
    "    for i in range(0,n):\n",
    "        i = str(i)\n",
    "        dist_dict[i] = [-1]\n",
    "        dist_dict[i] = n*dist_dict\n",
    "        dist_dict[i][int(i)-1] = 0\n",
    "            \n",
    "\n",
    "    while not len(vertices) == 0:\n",
    "        _, (chave_maior, grau_max),_ = grau_min_max_med(lista_adj) #para otimizar, tomaremos a raiz da bfs como o vertice de grau maximo\n",
    "        bfs_output, bfs_nivel, _ = BFS(lista_adj,chave_maior)\n",
    "        \n",
    "        #modificar distancias da chave maior:\n",
    "        dist_dict[chave_maior] = bfs_nivel[chave_maior]\n",
    "        \n",
    "        \n",
    "        n = len(bfs_output)\n",
    "        for u in bfs_output:\n",
    "            indice_u = bfs_output.index(u)\n",
    "            lista_u = matriz[int(u)-1]\n",
    "            for i in range(indice_u,n):\n",
    "                v_i = bfs_output[i]\n",
    "                if \n",
    "                \n",
    "            \n",
    "            vertices.remove(u)\n",
    "                \n",
    "    "
   ]
  },
  {
   "cell_type": "code",
   "execution_count": null,
   "metadata": {},
   "outputs": [],
   "source": [
    "k = ['1','2','4','5','6','3']\n",
    "n = len(k)\n",
    "for u in k:\n",
    "    indice_u = k.index(u)\n",
    "    for i in range(indice_u, n ):\n",
    "        t = k[i]\n",
    "        print([u,t])"
   ]
  },
  {
   "cell_type": "code",
   "execution_count": null,
   "metadata": {},
   "outputs": [],
   "source": [
    "o = k.index('1')\n",
    "o"
   ]
  },
  {
   "cell_type": "code",
   "execution_count": null,
   "metadata": {},
   "outputs": [],
   "source": []
  },
  {
   "cell_type": "code",
   "execution_count": null,
   "metadata": {},
   "outputs": [],
   "source": [
    "lista_adj"
   ]
  },
  {
   "cell_type": "markdown",
   "metadata": {},
   "source": [
    "## 7) Componentes Conexas"
   ]
  },
  {
   "cell_type": "code",
   "execution_count": 152,
   "metadata": {},
   "outputs": [],
   "source": [
    "def componentes_conexas(lista_adjencia):\n",
    "    vertices = list(lista_adjencia.keys())\n",
    "    n = len(vertices)\n",
    "    componentes_conex = []\n",
    "    while not len(vertices) == 0:\n",
    "        _, (chave_maior, grau_max),_ = grau_min_max_med(lista_adjencia) #para otimizar, tomaremos a raiz da bfs como o vertice de grau maximo\n",
    "        bfs_output, _, _ = BFS(lista_adj,chave_maior)\n",
    "        \n",
    "        #Achado uma componente conexa:\n",
    "        componentes_conex.append(bfs_output)\n",
    "        \n",
    "        #Eliminando os vertices já trabalhados e renovando a lista de adj:\n",
    "        for v in bfs_output:\n",
    "            vertices.remove(v)\n",
    "            del lista_adj[v]\n",
    "            \n",
    "    return componentes_conex\n",
    "            "
   ]
  },
  {
   "cell_type": "code",
   "execution_count": 165,
   "metadata": {},
   "outputs": [
    {
     "ename": "KeyError",
     "evalue": "'3'",
     "output_type": "error",
     "traceback": [
      "\u001b[1;31m---------------------------------------------------------------------------\u001b[0m",
      "\u001b[1;31mKeyError\u001b[0m                                  Traceback (most recent call last)",
      "\u001b[1;32m<ipython-input-165-9d3bbad82731>\u001b[0m in \u001b[0;36m<module>\u001b[1;34m\u001b[0m\n\u001b[0;32m      4\u001b[0m \u001b[0mteste1_lista_adj\u001b[0m \u001b[1;33m=\u001b[0m \u001b[0mlista_adj_dict\u001b[0m\u001b[1;33m(\u001b[0m\u001b[0mteste1_vertices\u001b[0m\u001b[1;33m,\u001b[0m\u001b[0mteste1_arestas\u001b[0m\u001b[1;33m)\u001b[0m\u001b[1;33m\u001b[0m\u001b[1;33m\u001b[0m\u001b[0m\n\u001b[0;32m      5\u001b[0m \u001b[1;33m\u001b[0m\u001b[0m\n\u001b[1;32m----> 6\u001b[1;33m \u001b[0mcomponentes_conexas\u001b[0m\u001b[1;33m(\u001b[0m\u001b[0mteste1_lista_adj\u001b[0m\u001b[1;33m)\u001b[0m\u001b[1;33m\u001b[0m\u001b[1;33m\u001b[0m\u001b[0m\n\u001b[0m",
      "\u001b[1;32m<ipython-input-152-0938914bd0b0>\u001b[0m in \u001b[0;36mcomponentes_conexas\u001b[1;34m(lista_adjencia)\u001b[0m\n\u001b[0;32m      5\u001b[0m     \u001b[1;32mwhile\u001b[0m \u001b[1;32mnot\u001b[0m \u001b[0mlen\u001b[0m\u001b[1;33m(\u001b[0m\u001b[0mvertices\u001b[0m\u001b[1;33m)\u001b[0m \u001b[1;33m==\u001b[0m \u001b[1;36m0\u001b[0m\u001b[1;33m:\u001b[0m\u001b[1;33m\u001b[0m\u001b[1;33m\u001b[0m\u001b[0m\n\u001b[0;32m      6\u001b[0m         \u001b[0m_\u001b[0m\u001b[1;33m,\u001b[0m \u001b[1;33m(\u001b[0m\u001b[0mchave_maior\u001b[0m\u001b[1;33m,\u001b[0m \u001b[0mgrau_max\u001b[0m\u001b[1;33m)\u001b[0m\u001b[1;33m,\u001b[0m\u001b[0m_\u001b[0m \u001b[1;33m=\u001b[0m \u001b[0mgrau_min_max_med\u001b[0m\u001b[1;33m(\u001b[0m\u001b[0mlista_adjencia\u001b[0m\u001b[1;33m)\u001b[0m \u001b[1;31m#para otimizar, tomaremos a raiz da bfs como o vertice de grau maximo\u001b[0m\u001b[1;33m\u001b[0m\u001b[1;33m\u001b[0m\u001b[0m\n\u001b[1;32m----> 7\u001b[1;33m         \u001b[0mbfs_output\u001b[0m\u001b[1;33m,\u001b[0m \u001b[0m_\u001b[0m\u001b[1;33m,\u001b[0m \u001b[0m_\u001b[0m \u001b[1;33m=\u001b[0m \u001b[0mBFS\u001b[0m\u001b[1;33m(\u001b[0m\u001b[0mlista_adj\u001b[0m\u001b[1;33m,\u001b[0m\u001b[0mchave_maior\u001b[0m\u001b[1;33m)\u001b[0m\u001b[1;33m\u001b[0m\u001b[1;33m\u001b[0m\u001b[0m\n\u001b[0m\u001b[0;32m      8\u001b[0m \u001b[1;33m\u001b[0m\u001b[0m\n\u001b[0;32m      9\u001b[0m         \u001b[1;31m#Achado uma componente conexa:\u001b[0m\u001b[1;33m\u001b[0m\u001b[1;33m\u001b[0m\u001b[1;33m\u001b[0m\u001b[0m\n",
      "\u001b[1;32m<ipython-input-42-192f65b0ea73>\u001b[0m in \u001b[0;36mBFS\u001b[1;34m(lista_adj, raiz)\u001b[0m\n\u001b[0;32m     27\u001b[0m \u001b[1;33m\u001b[0m\u001b[0m\n\u001b[0;32m     28\u001b[0m         \u001b[1;31m#analisando os vizinhos de u:\u001b[0m\u001b[1;33m\u001b[0m\u001b[1;33m\u001b[0m\u001b[1;33m\u001b[0m\u001b[0m\n\u001b[1;32m---> 29\u001b[1;33m         \u001b[1;32mfor\u001b[0m \u001b[0mv\u001b[0m \u001b[1;32min\u001b[0m \u001b[0mlista_adj\u001b[0m\u001b[1;33m[\u001b[0m\u001b[0mu\u001b[0m\u001b[1;33m]\u001b[0m\u001b[1;33m:\u001b[0m\u001b[1;33m\u001b[0m\u001b[1;33m\u001b[0m\u001b[0m\n\u001b[0m\u001b[0;32m     30\u001b[0m             \u001b[1;32mif\u001b[0m \u001b[1;32mnot\u001b[0m \u001b[0mvisitados\u001b[0m\u001b[1;33m[\u001b[0m\u001b[0mv\u001b[0m\u001b[1;33m]\u001b[0m\u001b[1;33m:\u001b[0m \u001b[1;31m#verificaçao se v ja foi visitado\u001b[0m\u001b[1;33m\u001b[0m\u001b[1;33m\u001b[0m\u001b[0m\n\u001b[0;32m     31\u001b[0m                 \u001b[0mvisitados\u001b[0m\u001b[1;33m[\u001b[0m\u001b[0mv\u001b[0m\u001b[1;33m]\u001b[0m \u001b[1;33m=\u001b[0m \u001b[1;32mTrue\u001b[0m\u001b[1;33m\u001b[0m\u001b[1;33m\u001b[0m\u001b[0m\n",
      "\u001b[1;31mKeyError\u001b[0m: '3'"
     ]
    }
   ],
   "source": [
    "###############GRAFO DE TESTE 1:\n",
    "teste1_vertices = ['1','2','3','4','5','6','7']\n",
    "teste1_arestas = [['1','2'], ['1','3'], ['2','3'], ['2','4'], ['3','5'], ['3','6'], ['4','7'], ['5','7']]\n",
    "teste1_lista_adj = lista_adj_dict(teste1_vertices,teste1_arestas)\n",
    "\n",
    "componentes_conexas(teste1_lista_adj)"
   ]
  },
  {
   "cell_type": "code",
   "execution_count": 72,
   "metadata": {},
   "outputs": [],
   "source": [
    "###############GRAFO DE TESTE 2:\n",
    "teste_vertices2 = ['1','2','3','4','5','6','7', '8','9']\n",
    "teste_arestas2 = [['1','2'], ['1','3'], ['2','3'], ['2','4'], ['3','5'], ['3','6'], ['4','7'], ['5','7'], ['8','9']]\n",
    "teste_lista_adj2 = lista_adj_dict(teste_vertices2,teste_arestas2)\n",
    "\n",
    "#print(teste_lista_adj2)\n",
    "\n",
    "#componentes_conexas(teste_lista_adj2)"
   ]
  },
  {
   "cell_type": "code",
   "execution_count": null,
   "metadata": {
    "scrolled": true
   },
   "outputs": [],
   "source": [
    "cc = []\n",
    "for u in componentes_conexas(lista_adj):\n",
    "    cc.append(u)\n",
    "\n",
    "cc"
   ]
  },
  {
   "cell_type": "code",
   "execution_count": null,
   "metadata": {},
   "outputs": [],
   "source": [
    "len(cc)"
   ]
  },
  {
   "cell_type": "code",
   "execution_count": 291,
   "metadata": {},
   "outputs": [
    {
     "name": "stdout",
     "output_type": "stream",
     "text": [
      "50000\n",
      "25000\n",
      "12500\n",
      "6250\n",
      "3125\n",
      "1562\n",
      "781\n",
      "10\n",
      "10\n",
      "10\n",
      "390\n",
      "10\n",
      "10\n",
      "12\n",
      "10\n",
      "10\n",
      "195\n",
      "24\n",
      "48\n",
      "97\n"
     ]
    }
   ],
   "source": [
    "for comp in cc:\n",
    "    print(len(comp))"
   ]
  },
  {
   "cell_type": "markdown",
   "metadata": {},
   "source": [
    "## Execução:"
   ]
  },
  {
   "cell_type": "code",
   "execution_count": 184,
   "metadata": {},
   "outputs": [],
   "source": [
    "grafo_txt = grafo_6_txt"
   ]
  },
  {
   "cell_type": "code",
   "execution_count": 5,
   "metadata": {
    "scrolled": true
   },
   "outputs": [
    {
     "ename": "NameError",
     "evalue": "name 'listas_vertices_arestas' is not defined",
     "output_type": "error",
     "traceback": [
      "\u001b[1;31m---------------------------------------------------------------------------\u001b[0m",
      "\u001b[1;31mNameError\u001b[0m                                 Traceback (most recent call last)",
      "\u001b[1;32m<ipython-input-5-0a3c71d0ed11>\u001b[0m in \u001b[0;36m<module>\u001b[1;34m\u001b[0m\n\u001b[1;32m----> 1\u001b[1;33m \u001b[0mvertices\u001b[0m\u001b[1;33m,\u001b[0m \u001b[0marestas\u001b[0m \u001b[1;33m=\u001b[0m \u001b[0mlistas_vertices_arestas\u001b[0m\u001b[1;33m(\u001b[0m\u001b[0mgrafo_txt\u001b[0m\u001b[1;33m)\u001b[0m\u001b[1;33m\u001b[0m\u001b[1;33m\u001b[0m\u001b[0m\n\u001b[0m",
      "\u001b[1;31mNameError\u001b[0m: name 'listas_vertices_arestas' is not defined"
     ]
    }
   ],
   "source": [
    "vertices, arestas = listas_vertices_arestas(grafo_txt)"
   ]
  },
  {
   "cell_type": "code",
   "execution_count": 186,
   "metadata": {},
   "outputs": [
    {
     "data": {
      "text/plain": [
       "'O número de vértices é 1000022 e o número de arestas é 17666652'"
      ]
     },
     "execution_count": 186,
     "metadata": {},
     "output_type": "execute_result"
    }
   ],
   "source": [
    "#Numero de vertices e arestas:\n",
    "quantidade_vertice_e_arestas = numero_vertices_arestas(grafo_txt)\n",
    "quantidade_vertice_e_arestas"
   ]
  },
  {
   "cell_type": "code",
   "execution_count": 187,
   "metadata": {
    "scrolled": true
   },
   "outputs": [],
   "source": [
    "lista_adj = lista_adj_dict(vertices,arestas)\n",
    "#lista_adj"
   ]
  },
  {
   "cell_type": "code",
   "execution_count": 188,
   "metadata": {},
   "outputs": [],
   "source": [
    "#lista_adj"
   ]
  },
  {
   "cell_type": "code",
   "execution_count": 189,
   "metadata": {},
   "outputs": [],
   "source": [
    "grau_grafo = grau(lista_adj)"
   ]
  },
  {
   "cell_type": "code",
   "execution_count": 190,
   "metadata": {},
   "outputs": [],
   "source": [
    "minimo, maximo, medio = grau_min_max_med(lista_adj)"
   ]
  },
  {
   "cell_type": "code",
   "execution_count": 174,
   "metadata": {},
   "outputs": [],
   "source": [
    "bfs_output, bfs_nivel, bfs_pai = BFS(lista_adj, '2')"
   ]
  },
  {
   "cell_type": "code",
   "execution_count": 175,
   "metadata": {},
   "outputs": [
    {
     "name": "stdout",
     "output_type": "stream",
     "text": [
      "5000\n"
     ]
    }
   ],
   "source": [
    "print(len(bfs_output))"
   ]
  },
  {
   "cell_type": "code",
   "execution_count": 176,
   "metadata": {},
   "outputs": [
    {
     "name": "stdout",
     "output_type": "stream",
     "text": [
      "-1\n"
     ]
    }
   ],
   "source": [
    "print(bfs_nivel['10'])"
   ]
  },
  {
   "cell_type": "code",
   "execution_count": 177,
   "metadata": {},
   "outputs": [
    {
     "name": "stdout",
     "output_type": "stream",
     "text": [
      "None\n"
     ]
    }
   ],
   "source": [
    "print(bfs_pai['10'])"
   ]
  },
  {
   "cell_type": "code",
   "execution_count": null,
   "metadata": {},
   "outputs": [],
   "source": []
  },
  {
   "cell_type": "code",
   "execution_count": 178,
   "metadata": {},
   "outputs": [],
   "source": [
    "#Grafo_txt:\n",
    "dfs_output, dfs_nivel, dfs_pai = DFS(lista_adj, '1')"
   ]
  },
  {
   "cell_type": "code",
   "execution_count": 179,
   "metadata": {},
   "outputs": [],
   "source": [
    "#dfs_output"
   ]
  },
  {
   "cell_type": "code",
   "execution_count": 180,
   "metadata": {},
   "outputs": [],
   "source": [
    "#dfs_nivel"
   ]
  },
  {
   "cell_type": "code",
   "execution_count": 181,
   "metadata": {
    "scrolled": true
   },
   "outputs": [
    {
     "name": "stdout",
     "output_type": "stream",
     "text": [
      "None\n"
     ]
    }
   ],
   "source": [
    "print(dfs_pai['20'])"
   ]
  },
  {
   "cell_type": "code",
   "execution_count": null,
   "metadata": {},
   "outputs": [],
   "source": []
  },
  {
   "cell_type": "code",
   "execution_count": null,
   "metadata": {
    "scrolled": true
   },
   "outputs": [],
   "source": [
    "cc = []\n",
    "for u in componentes_conexas(lista_adj):\n",
    "    cc.append(u)\n",
    "\n",
    "cc"
   ]
  },
  {
   "cell_type": "code",
   "execution_count": 68,
   "metadata": {},
   "outputs": [
    {
     "data": {
      "text/plain": [
       "5"
      ]
     },
     "execution_count": 68,
     "metadata": {},
     "output_type": "execute_result"
    }
   ],
   "source": [
    "len(cc)"
   ]
  },
  {
   "cell_type": "code",
   "execution_count": 69,
   "metadata": {
    "scrolled": false
   },
   "outputs": [
    {
     "name": "stdout",
     "output_type": "stream",
     "text": [
      "500\n",
      "250\n",
      "125\n",
      "62\n",
      "31\n"
     ]
    }
   ],
   "source": [
    "for comp in cc:\n",
    "    print(len(comp))"
   ]
  },
  {
   "cell_type": "code",
   "execution_count": 89,
   "metadata": {},
   "outputs": [
    {
     "name": "stdout",
     "output_type": "stream",
     "text": [
      "deu ruim\n",
      "['1', '10', '101', '103', '104', '107', '108', '109', '110', '112', '113', '114', '117', '119', '12', '121', '122', '123', '124', '125', '127', '128', '13', '130', '133', '134', '138', '14', '141', '142', '143', '146', '149', '15', '150', '151', '152', '156', '159', '16', '160', '162', '163', '165', '17', '171', '172', '175', '177', '180', '181', '182', '184', '185', '188', '190', '192', '194', '195', '196', '197', '198', '199', '2', '200', '202', '203', '205', '206', '207', '211', '212', '213', '216', '218', '219', '22', '220', '223', '224', '225', '228', '231', '234', '235', '236', '242', '243', '244', '247', '25', '250', '251', '254', '255', '257', '26', '261', '263', '265', '267', '269', '270', '276', '28', '281', '283', '285', '293', '296', '298', '3', '300', '303', '304', '306', '307', '31', '310', '311', '314', '319', '322', '324', '33', '34', '340', '341', '342', '344', '345', '346', '349', '35', '351', '352', '354', '356', '359', '360', '364', '365', '370', '373', '375', '376', '377', '378', '380', '382', '384', '386', '387', '388', '39', '393', '395', '4', '401', '402', '403', '406', '407', '41', '410', '411', '414', '415', '417', '419', '422', '424', '429', '43', '431', '435', '436', '437', '438', '439', '44', '442', '445', '446', '448', '45', '454', '455', '456', '457', '458', '46', '460', '462', '467', '47', '472', '473', '475', '477', '478', '48', '480', '484', '485', '487', '489', '490', '491', '492', '493', '494', '497', '498', '5', '50', '502', '503', '504', '505', '506', '508', '51', '510', '513', '514', '518', '519', '52', '520', '522', '523', '524', '526', '527', '528', '53', '530', '531', '532', '534', '535', '539', '54', '540', '542', '543', '545', '547', '548', '549', '55', '550', '551', '553', '554', '557', '558', '559', '56', '561', '562', '564', '565', '567', '568', '575', '576', '578', '58', '580', '581', '583', '584', '585', '587', '588', '589', '590', '592', '597', '598', '599', '601', '602', '604', '605', '608', '61', '612', '613', '615', '617', '618', '62', '620', '628', '629', '63', '630', '631', '633', '636', '637', '638', '639', '64', '640', '641', '642', '644', '645', '649', '65', '651', '653', '655', '658', '66', '660', '662', '663', '664', '666', '667', '668', '669', '670', '673', '674', '675', '676', '677', '678', '681', '682', '686', '687', '689', '693', '695', '696', '697', '698', '699', '7', '704', '706', '707', '709', '71', '711', '713', '714', '715', '716', '717', '719', '724', '728', '729', '730', '731', '733', '735', '736', '739', '740', '741', '746', '748', '753', '754', '756', '757', '758', '759', '76', '761', '764', '765', '767', '768', '772', '775', '776', '777', '78', '782', '783', '784', '787', '790', '791', '792', '793', '795', '797', '798', '799', '8', '80', '800', '802', '804', '807', '809', '81', '810', '811', '819', '82', '823', '824', '825', '826', '827', '830', '831', '834', '837', '838', '843', '845', '848', '85', '851', '852', '854', '857', '859', '86', '861', '863', '864', '866', '870', '872', '874', '875', '878', '879', '88', '880', '881', '882', '883', '884', '887', '889', '89', '890', '891', '893', '895', '898', '899', '90', '901', '903', '906', '91', '910', '915', '917', '918', '919', '920', '922', '923', '926', '927', '929', '932', '936', '937', '939', '940', '941', '942', '943', '944', '945', '946', '947', '950', '952', '953', '954', '956', '957', '958', '96', '960', '961', '963', '964', '965', '966', '99']\n",
      "YEEEEAAAHHH\n",
      "YEEEEAAAHHH\n",
      "YEEEEAAAHHH\n",
      "YEEEEAAAHHH\n"
     ]
    }
   ],
   "source": [
    "for op in cc:\n",
    "    if '3' in op and '10' in op:\n",
    "        print('deu ruim')\n",
    "        op.sort()\n",
    "        print(op)\n",
    "    else:\n",
    "        print('YEEEEAAAHHH')"
   ]
  }
 ],
 "metadata": {
  "kernelspec": {
   "display_name": "Python 3",
   "language": "python",
   "name": "python3"
  },
  "language_info": {
   "codemirror_mode": {
    "name": "ipython",
    "version": 3
   },
   "file_extension": ".py",
   "mimetype": "text/x-python",
   "name": "python",
   "nbconvert_exporter": "python",
   "pygments_lexer": "ipython3",
   "version": "3.8.5"
  }
 },
 "nbformat": 4,
 "nbformat_minor": 4
}
